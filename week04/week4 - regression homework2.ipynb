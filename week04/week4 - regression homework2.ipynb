{
 "cells": [
  {
   "cell_type": "markdown",
   "metadata": {},
   "source": [
    "# Week4 - Homework 2\n",
    "\n",
    "- Execute the below code, then answer the numbered questions.\n",
    "- You can create additinal code and markdown blocks"
   ]
  },
  {
   "cell_type": "code",
   "execution_count": 2,
   "metadata": {},
   "outputs": [
    {
     "name": "stdout",
     "output_type": "stream",
     "text": [
      "<class 'pandas.core.frame.DataFrame'>\n",
      "RangeIndex: 48895 entries, 0 to 48894\n",
      "Data columns (total 16 columns):\n",
      " #   Column                          Non-Null Count  Dtype  \n",
      "---  ------                          --------------  -----  \n",
      " 0   id                              48895 non-null  int64  \n",
      " 1   name                            48879 non-null  object \n",
      " 2   host_id                         48895 non-null  int64  \n",
      " 3   host_name                       48874 non-null  object \n",
      " 4   neighbourhood_group             48895 non-null  object \n",
      " 5   neighbourhood                   48895 non-null  object \n",
      " 6   latitude                        48895 non-null  float64\n",
      " 7   longitude                       48895 non-null  float64\n",
      " 8   room_type                       48895 non-null  object \n",
      " 9   price                           48895 non-null  int64  \n",
      " 10  minimum_nights                  48895 non-null  int64  \n",
      " 11  number_of_reviews               48895 non-null  int64  \n",
      " 12  last_review                     38843 non-null  object \n",
      " 13  reviews_per_month               38843 non-null  float64\n",
      " 14  calculated_host_listings_count  48895 non-null  int64  \n",
      " 15  availability_365                48895 non-null  int64  \n",
      "dtypes: float64(3), int64(7), object(6)\n",
      "memory usage: 6.0+ MB\n"
     ]
    }
   ],
   "source": [
    "import pandas as pd\n",
    "\n",
    "df = pd.read_csv('https://raw.githubusercontent.com/msaricaumbc/DS_data/master/ds602/regression/airbnb_nyc_2019.csv')\n",
    "df.info()"
   ]
  },
  {
   "cell_type": "markdown",
   "metadata": {},
   "source": [
    "## Question 1:\n",
    "### Which features can we use?"
   ]
  },
  {
   "cell_type": "code",
   "execution_count": 4,
   "metadata": {},
   "outputs": [
    {
     "data": {
      "text/html": [
       "<div>\n",
       "<style scoped>\n",
       "    .dataframe tbody tr th:only-of-type {\n",
       "        vertical-align: middle;\n",
       "    }\n",
       "\n",
       "    .dataframe tbody tr th {\n",
       "        vertical-align: top;\n",
       "    }\n",
       "\n",
       "    .dataframe thead th {\n",
       "        text-align: right;\n",
       "    }\n",
       "</style>\n",
       "<table border=\"1\" class=\"dataframe\">\n",
       "  <thead>\n",
       "    <tr style=\"text-align: right;\">\n",
       "      <th></th>\n",
       "      <th>id</th>\n",
       "      <th>name</th>\n",
       "      <th>host_id</th>\n",
       "      <th>host_name</th>\n",
       "      <th>neighbourhood_group</th>\n",
       "      <th>neighbourhood</th>\n",
       "      <th>latitude</th>\n",
       "      <th>longitude</th>\n",
       "      <th>room_type</th>\n",
       "      <th>price</th>\n",
       "      <th>minimum_nights</th>\n",
       "      <th>number_of_reviews</th>\n",
       "      <th>last_review</th>\n",
       "      <th>reviews_per_month</th>\n",
       "      <th>calculated_host_listings_count</th>\n",
       "      <th>availability_365</th>\n",
       "    </tr>\n",
       "  </thead>\n",
       "  <tbody>\n",
       "    <tr>\n",
       "      <th>0</th>\n",
       "      <td>2539</td>\n",
       "      <td>Clean &amp; quiet apt home by the park</td>\n",
       "      <td>2787</td>\n",
       "      <td>John</td>\n",
       "      <td>Brooklyn</td>\n",
       "      <td>Kensington</td>\n",
       "      <td>40.64749</td>\n",
       "      <td>-73.97237</td>\n",
       "      <td>Private room</td>\n",
       "      <td>149</td>\n",
       "      <td>1</td>\n",
       "      <td>9</td>\n",
       "      <td>2018-10-19</td>\n",
       "      <td>0.21</td>\n",
       "      <td>6</td>\n",
       "      <td>365</td>\n",
       "    </tr>\n",
       "    <tr>\n",
       "      <th>1</th>\n",
       "      <td>2595</td>\n",
       "      <td>Skylit Midtown Castle</td>\n",
       "      <td>2845</td>\n",
       "      <td>Jennifer</td>\n",
       "      <td>Manhattan</td>\n",
       "      <td>Midtown</td>\n",
       "      <td>40.75362</td>\n",
       "      <td>-73.98377</td>\n",
       "      <td>Entire home/apt</td>\n",
       "      <td>225</td>\n",
       "      <td>1</td>\n",
       "      <td>45</td>\n",
       "      <td>2019-05-21</td>\n",
       "      <td>0.38</td>\n",
       "      <td>2</td>\n",
       "      <td>355</td>\n",
       "    </tr>\n",
       "    <tr>\n",
       "      <th>2</th>\n",
       "      <td>3647</td>\n",
       "      <td>THE VILLAGE OF HARLEM....NEW YORK !</td>\n",
       "      <td>4632</td>\n",
       "      <td>Elisabeth</td>\n",
       "      <td>Manhattan</td>\n",
       "      <td>Harlem</td>\n",
       "      <td>40.80902</td>\n",
       "      <td>-73.94190</td>\n",
       "      <td>Private room</td>\n",
       "      <td>150</td>\n",
       "      <td>3</td>\n",
       "      <td>0</td>\n",
       "      <td>NaN</td>\n",
       "      <td>NaN</td>\n",
       "      <td>1</td>\n",
       "      <td>365</td>\n",
       "    </tr>\n",
       "    <tr>\n",
       "      <th>3</th>\n",
       "      <td>3831</td>\n",
       "      <td>Cozy Entire Floor of Brownstone</td>\n",
       "      <td>4869</td>\n",
       "      <td>LisaRoxanne</td>\n",
       "      <td>Brooklyn</td>\n",
       "      <td>Clinton Hill</td>\n",
       "      <td>40.68514</td>\n",
       "      <td>-73.95976</td>\n",
       "      <td>Entire home/apt</td>\n",
       "      <td>89</td>\n",
       "      <td>1</td>\n",
       "      <td>270</td>\n",
       "      <td>2019-07-05</td>\n",
       "      <td>4.64</td>\n",
       "      <td>1</td>\n",
       "      <td>194</td>\n",
       "    </tr>\n",
       "    <tr>\n",
       "      <th>4</th>\n",
       "      <td>5022</td>\n",
       "      <td>Entire Apt: Spacious Studio/Loft by central park</td>\n",
       "      <td>7192</td>\n",
       "      <td>Laura</td>\n",
       "      <td>Manhattan</td>\n",
       "      <td>East Harlem</td>\n",
       "      <td>40.79851</td>\n",
       "      <td>-73.94399</td>\n",
       "      <td>Entire home/apt</td>\n",
       "      <td>80</td>\n",
       "      <td>10</td>\n",
       "      <td>9</td>\n",
       "      <td>2018-11-19</td>\n",
       "      <td>0.10</td>\n",
       "      <td>1</td>\n",
       "      <td>0</td>\n",
       "    </tr>\n",
       "  </tbody>\n",
       "</table>\n",
       "</div>"
      ],
      "text/plain": [
       "     id                                              name  host_id  \\\n",
       "0  2539                Clean & quiet apt home by the park     2787   \n",
       "1  2595                             Skylit Midtown Castle     2845   \n",
       "2  3647               THE VILLAGE OF HARLEM....NEW YORK !     4632   \n",
       "3  3831                   Cozy Entire Floor of Brownstone     4869   \n",
       "4  5022  Entire Apt: Spacious Studio/Loft by central park     7192   \n",
       "\n",
       "     host_name neighbourhood_group neighbourhood  latitude  longitude  \\\n",
       "0         John            Brooklyn    Kensington  40.64749  -73.97237   \n",
       "1     Jennifer           Manhattan       Midtown  40.75362  -73.98377   \n",
       "2    Elisabeth           Manhattan        Harlem  40.80902  -73.94190   \n",
       "3  LisaRoxanne            Brooklyn  Clinton Hill  40.68514  -73.95976   \n",
       "4        Laura           Manhattan   East Harlem  40.79851  -73.94399   \n",
       "\n",
       "         room_type  price  minimum_nights  number_of_reviews last_review  \\\n",
       "0     Private room    149               1                  9  2018-10-19   \n",
       "1  Entire home/apt    225               1                 45  2019-05-21   \n",
       "2     Private room    150               3                  0         NaN   \n",
       "3  Entire home/apt     89               1                270  2019-07-05   \n",
       "4  Entire home/apt     80              10                  9  2018-11-19   \n",
       "\n",
       "   reviews_per_month  calculated_host_listings_count  availability_365  \n",
       "0               0.21                               6               365  \n",
       "1               0.38                               2               355  \n",
       "2                NaN                               1               365  \n",
       "3               4.64                               1               194  \n",
       "4               0.10                               1                 0  "
      ]
     },
     "execution_count": 4,
     "metadata": {},
     "output_type": "execute_result"
    }
   ],
   "source": [
    "df.head()"
   ]
  },
  {
   "cell_type": "markdown",
   "metadata": {},
   "source": [
    "Features to exclude:\n",
    "\n",
    "- name can affect the price of the apartment but there is no significant change since it do not have a proper description of the location of the house\n",
    "- id can be removed as it is an identifier\n",
    "- host_id can be removed since it is an identifier\n",
    "- host_name can be removed a person is very less likely to buy a house from a particular host.\n",
    "- last_review can be removed"
   ]
  },
  {
   "cell_type": "markdown",
   "metadata": {},
   "source": [
    "Your explanation?"
   ]
  },
  {
   "cell_type": "code",
   "execution_count": 7,
   "metadata": {},
   "outputs": [
    {
     "name": "stdout",
     "output_type": "stream",
     "text": [
      "Records in training data: 39,116\n",
      "Records in test data: 9,779\n",
      "\n",
      "Features:\n",
      "neighbourhood_group\n",
      "neighbourhood\n",
      "latitude\n",
      "longitude\n",
      "room_type\n",
      "minimum_nights\n",
      "number_of_reviews\n",
      "reviews_per_month\n",
      "calculated_host_listings_count\n",
      "availability_365\n"
     ]
    }
   ],
   "source": [
    "from sklearn.model_selection import train_test_split\n",
    "features = ['neighbourhood_group',\n",
    "    'neighbourhood',\n",
    "    'latitude',\n",
    "    'longitude',\n",
    "    'room_type',\n",
    "    'minimum_nights',\n",
    "    'number_of_reviews',\n",
    "    'reviews_per_month',\n",
    "    'calculated_host_listings_count',\n",
    "    'availability_365'\n",
    "]\n",
    "\n",
    "X = df[features]\n",
    "y = df['price']\n",
    "\n",
    "X_train, X_test, y_train, y_test = train_test_split(X, y, test_size=0.2, random_state=100)\n",
    "\n",
    "print(f'Records in training data: {X_train.shape[0]:,}')\n",
    "print(f'Records in test data: {X_test.shape[0]:,}')\n",
    "print('\\nFeatures:')\n",
    "print(*X_train.columns, sep='\\n')"
   ]
  },
  {
   "cell_type": "markdown",
   "metadata": {},
   "source": [
    "## Question 2: \n",
    "Split the features into two lists, one for the numerical features and another for the categorical features."
   ]
  },
  {
   "cell_type": "code",
   "execution_count": 9,
   "metadata": {},
   "outputs": [],
   "source": [
    "# numerical features\n",
    "numerical_features = [\n",
    "    'latitude',\n",
    "    'longitude',\n",
    "    'minimum_nights',\n",
    "    'number_of_reviews',\n",
    "    'reviews_per_month',\n",
    "    'calculated_host_listings_count',\n",
    "    'availability_365'\n",
    "]\n",
    "\n",
    "# categorical features\n",
    "categorical_features = ['neighbourhood_group',\n",
    "    'neighbourhood',\n",
    "    'room_type'\n",
    "]"
   ]
  },
  {
   "cell_type": "markdown",
   "metadata": {},
   "source": [
    "## Question 3: \n",
    " Using the numerical variables, create a pipeline that replaces the missing values with the median and then standardizes the values using a standard scaler."
   ]
  },
  {
   "cell_type": "code",
   "execution_count": 11,
   "metadata": {},
   "outputs": [
    {
     "data": {
      "text/html": [
       "<div>\n",
       "<style scoped>\n",
       "    .dataframe tbody tr th:only-of-type {\n",
       "        vertical-align: middle;\n",
       "    }\n",
       "\n",
       "    .dataframe tbody tr th {\n",
       "        vertical-align: top;\n",
       "    }\n",
       "\n",
       "    .dataframe thead th {\n",
       "        text-align: right;\n",
       "    }\n",
       "</style>\n",
       "<table border=\"1\" class=\"dataframe\">\n",
       "  <thead>\n",
       "    <tr style=\"text-align: right;\">\n",
       "      <th></th>\n",
       "      <th>latitude</th>\n",
       "      <th>longitude</th>\n",
       "      <th>minimum_nights</th>\n",
       "      <th>number_of_reviews</th>\n",
       "      <th>reviews_per_month</th>\n",
       "      <th>calculated_host_listings_count</th>\n",
       "      <th>availability_365</th>\n",
       "    </tr>\n",
       "  </thead>\n",
       "  <tbody>\n",
       "    <tr>\n",
       "      <th>0</th>\n",
       "      <td>-1.493849</td>\n",
       "      <td>-0.437652</td>\n",
       "      <td>-0.293996</td>\n",
       "      <td>-0.320414</td>\n",
       "      <td>-0.676551</td>\n",
       "      <td>-0.034716</td>\n",
       "      <td>1.916250</td>\n",
       "    </tr>\n",
       "    <tr>\n",
       "      <th>1</th>\n",
       "      <td>0.452436</td>\n",
       "      <td>-0.684639</td>\n",
       "      <td>-0.293996</td>\n",
       "      <td>0.487665</td>\n",
       "      <td>-0.564771</td>\n",
       "      <td>-0.156104</td>\n",
       "      <td>1.840275</td>\n",
       "    </tr>\n",
       "    <tr>\n",
       "      <th>2</th>\n",
       "      <td>1.468399</td>\n",
       "      <td>0.222497</td>\n",
       "      <td>-0.196484</td>\n",
       "      <td>-0.522433</td>\n",
       "      <td>-0.341211</td>\n",
       "      <td>-0.186451</td>\n",
       "      <td>1.916250</td>\n",
       "    </tr>\n",
       "    <tr>\n",
       "      <th>3</th>\n",
       "      <td>-0.803398</td>\n",
       "      <td>-0.164450</td>\n",
       "      <td>-0.293996</td>\n",
       "      <td>5.538156</td>\n",
       "      <td>2.236302</td>\n",
       "      <td>-0.186451</td>\n",
       "      <td>0.617065</td>\n",
       "    </tr>\n",
       "    <tr>\n",
       "      <th>4</th>\n",
       "      <td>1.275660</td>\n",
       "      <td>0.177216</td>\n",
       "      <td>0.144807</td>\n",
       "      <td>-0.320414</td>\n",
       "      <td>-0.748879</td>\n",
       "      <td>-0.186451</td>\n",
       "      <td>-0.856865</td>\n",
       "    </tr>\n",
       "  </tbody>\n",
       "</table>\n",
       "</div>"
      ],
      "text/plain": [
       "   latitude  longitude  minimum_nights  number_of_reviews  reviews_per_month  \\\n",
       "0 -1.493849  -0.437652       -0.293996          -0.320414          -0.676551   \n",
       "1  0.452436  -0.684639       -0.293996           0.487665          -0.564771   \n",
       "2  1.468399   0.222497       -0.196484          -0.522433          -0.341211   \n",
       "3 -0.803398  -0.164450       -0.293996           5.538156           2.236302   \n",
       "4  1.275660   0.177216        0.144807          -0.320414          -0.748879   \n",
       "\n",
       "   calculated_host_listings_count  availability_365  \n",
       "0                       -0.034716          1.916250  \n",
       "1                       -0.156104          1.840275  \n",
       "2                       -0.186451          1.916250  \n",
       "3                       -0.186451          0.617065  \n",
       "4                       -0.186451         -0.856865  "
      ]
     },
     "execution_count": 11,
     "metadata": {},
     "output_type": "execute_result"
    }
   ],
   "source": [
    "from sklearn.pipeline import Pipeline\n",
    "from sklearn.impute import SimpleImputer\n",
    "from sklearn.preprocessing import StandardScaler\n",
    "\n",
    "# pipeline for numerical features\n",
    "numerical_pipeline = Pipeline(steps=[\n",
    "    ('imputer', SimpleImputer(strategy='median')),  # replace missing values with the median\n",
    "    ('scaler', StandardScaler())                    # standardize the values\n",
    "])\n",
    "\n",
    "# fit and transform the numerical data\n",
    "X_numerical_transformed = numerical_pipeline.fit_transform(X[numerical_features])\n",
    "\n",
    "# convert the result back to a DataFrame\n",
    "X_numerical_transformed_df = pd.DataFrame(X_numerical_transformed, columns=numerical_features)\n",
    "\n",
    "# display the transformed DataFrame\n",
    "X_numerical_transformed_df.head()"
   ]
  },
  {
   "cell_type": "markdown",
   "metadata": {},
   "source": [
    "## Question 4: \n",
    "Using the categorical variables, create a pipeline that replaces the missing values with the most frequent and then use one-hot encoding to convert the data to numerical arrays.\n",
    "- You should be dropping one category from each variable when using the one-hot encoder.  \n",
    "- To ensure the pipeline doesn't break when it receives new/unexpected categories, you should ignore new categories.\n",
    "- Use a fit transformer on the training dataset to validate all the columns are now numeric and to determine how many columns the transformed data contains."
   ]
  },
  {
   "cell_type": "code",
   "execution_count": 13,
   "metadata": {},
   "outputs": [
    {
     "name": "stdout",
     "output_type": "stream",
     "text": [
      "       neighbourhood_group_Brooklyn  neighbourhood_group_Manhattan  \\\n",
      "0                               0.0                            1.0   \n",
      "1                               1.0                            0.0   \n",
      "2                               0.0                            1.0   \n",
      "3                               1.0                            0.0   \n",
      "4                               1.0                            0.0   \n",
      "...                             ...                            ...   \n",
      "39111                           0.0                            1.0   \n",
      "39112                           0.0                            1.0   \n",
      "39113                           0.0                            1.0   \n",
      "39114                           0.0                            1.0   \n",
      "39115                           1.0                            0.0   \n",
      "\n",
      "       neighbourhood_group_Queens  neighbourhood_group_Staten Island  \\\n",
      "0                             0.0                                0.0   \n",
      "1                             0.0                                0.0   \n",
      "2                             0.0                                0.0   \n",
      "3                             0.0                                0.0   \n",
      "4                             0.0                                0.0   \n",
      "...                           ...                                ...   \n",
      "39111                         0.0                                0.0   \n",
      "39112                         0.0                                0.0   \n",
      "39113                         0.0                                0.0   \n",
      "39114                         0.0                                0.0   \n",
      "39115                         0.0                                0.0   \n",
      "\n",
      "       neighbourhood_Arden Heights  neighbourhood_Arrochar  \\\n",
      "0                              0.0                     0.0   \n",
      "1                              0.0                     0.0   \n",
      "2                              0.0                     0.0   \n",
      "3                              0.0                     0.0   \n",
      "4                              0.0                     0.0   \n",
      "...                            ...                     ...   \n",
      "39111                          0.0                     0.0   \n",
      "39112                          0.0                     0.0   \n",
      "39113                          0.0                     0.0   \n",
      "39114                          0.0                     0.0   \n",
      "39115                          0.0                     0.0   \n",
      "\n",
      "       neighbourhood_Arverne  neighbourhood_Astoria  neighbourhood_Bath Beach  \\\n",
      "0                        0.0                    0.0                       0.0   \n",
      "1                        0.0                    0.0                       0.0   \n",
      "2                        0.0                    0.0                       0.0   \n",
      "3                        0.0                    0.0                       0.0   \n",
      "4                        0.0                    0.0                       0.0   \n",
      "...                      ...                    ...                       ...   \n",
      "39111                    0.0                    0.0                       0.0   \n",
      "39112                    0.0                    0.0                       0.0   \n",
      "39113                    0.0                    0.0                       0.0   \n",
      "39114                    0.0                    0.0                       0.0   \n",
      "39115                    0.0                    0.0                       0.0   \n",
      "\n",
      "       neighbourhood_Battery Park City  ...  neighbourhood_Williamsbridge  \\\n",
      "0                                  0.0  ...                           0.0   \n",
      "1                                  0.0  ...                           0.0   \n",
      "2                                  0.0  ...                           0.0   \n",
      "3                                  0.0  ...                           0.0   \n",
      "4                                  0.0  ...                           0.0   \n",
      "...                                ...  ...                           ...   \n",
      "39111                              0.0  ...                           0.0   \n",
      "39112                              0.0  ...                           0.0   \n",
      "39113                              0.0  ...                           0.0   \n",
      "39114                              0.0  ...                           0.0   \n",
      "39115                              0.0  ...                           0.0   \n",
      "\n",
      "       neighbourhood_Williamsburg  neighbourhood_Willowbrook  \\\n",
      "0                             0.0                        0.0   \n",
      "1                             0.0                        0.0   \n",
      "2                             0.0                        0.0   \n",
      "3                             0.0                        0.0   \n",
      "4                             0.0                        0.0   \n",
      "...                           ...                        ...   \n",
      "39111                         0.0                        0.0   \n",
      "39112                         0.0                        0.0   \n",
      "39113                         0.0                        0.0   \n",
      "39114                         0.0                        0.0   \n",
      "39115                         0.0                        0.0   \n",
      "\n",
      "       neighbourhood_Windsor Terrace  neighbourhood_Woodhaven  \\\n",
      "0                                0.0                      0.0   \n",
      "1                                0.0                      0.0   \n",
      "2                                0.0                      0.0   \n",
      "3                                0.0                      0.0   \n",
      "4                                0.0                      0.0   \n",
      "...                              ...                      ...   \n",
      "39111                            0.0                      0.0   \n",
      "39112                            0.0                      0.0   \n",
      "39113                            0.0                      0.0   \n",
      "39114                            0.0                      0.0   \n",
      "39115                            0.0                      0.0   \n",
      "\n",
      "       neighbourhood_Woodlawn  neighbourhood_Woodrow  neighbourhood_Woodside  \\\n",
      "0                         0.0                    0.0                     0.0   \n",
      "1                         0.0                    0.0                     0.0   \n",
      "2                         0.0                    0.0                     0.0   \n",
      "3                         0.0                    0.0                     0.0   \n",
      "4                         0.0                    0.0                     0.0   \n",
      "...                       ...                    ...                     ...   \n",
      "39111                     0.0                    0.0                     0.0   \n",
      "39112                     0.0                    0.0                     0.0   \n",
      "39113                     0.0                    0.0                     0.0   \n",
      "39114                     0.0                    0.0                     0.0   \n",
      "39115                     0.0                    0.0                     0.0   \n",
      "\n",
      "       room_type_Private room  room_type_Shared room  \n",
      "0                         0.0                    0.0  \n",
      "1                         0.0                    1.0  \n",
      "2                         0.0                    1.0  \n",
      "3                         1.0                    0.0  \n",
      "4                         0.0                    0.0  \n",
      "...                       ...                    ...  \n",
      "39111                     1.0                    0.0  \n",
      "39112                     1.0                    0.0  \n",
      "39113                     1.0                    0.0  \n",
      "39114                     0.0                    0.0  \n",
      "39115                     1.0                    0.0  \n",
      "\n",
      "[39116 rows x 224 columns]\n",
      "Number of columns after transformation: 224\n"
     ]
    }
   ],
   "source": [
    "# importing the required libraries\n",
    "from sklearn.preprocessing import OneHotEncoder\n",
    "\n",
    "# pipeline for categorical features\n",
    "categorical_pipeline = Pipeline(steps=[\n",
    "    ('imputer', SimpleImputer(strategy='most_frequent')),  # replace missing values with mode\n",
    "    ('encoder', OneHotEncoder(drop='first', handle_unknown='ignore'))  # one-hot encode with drop-first and ignore unknown categories\n",
    "])\n",
    "\n",
    "# fit and transform the pipeline on the training data\n",
    "X_categorical_transformed = categorical_pipeline.fit_transform(X_train[categorical_features])\n",
    "\n",
    "# convert the transformed data to a DataFrame to inspect the result\n",
    "# converting the sparse matrix to dense matrix\n",
    "X_categorical_transformed_df = pd.DataFrame(X_categorical_transformed.toarray(), \n",
    "                                            columns=categorical_pipeline.named_steps['encoder'].get_feature_names_out(categorical_features))\n",
    "\n",
    "# print the transformed DataFrame\n",
    "print(X_categorical_transformed_df)\n",
    "\n",
    "# print the number of columns in the transformed data\n",
    "print(f\"Number of columns after transformation: {X_categorical_transformed_df.shape[1]}\")"
   ]
  },
  {
   "cell_type": "markdown",
   "metadata": {},
   "source": [
    "## Question 5: \n",
    "\n",
    "Combine the numerical and categorical pipelines into one data processing pipeline.\n",
    "- Use a fit transformers and the training dataset to verify the data has no missing values and the correct number of columns."
   ]
  },
  {
   "cell_type": "code",
   "execution_count": 15,
   "metadata": {
    "scrolled": true
   },
   "outputs": [
    {
     "name": "stdout",
     "output_type": "stream",
     "text": [
      "            0         1         2         3         4         5         6    \\\n",
      "0      0.059054 -1.104861 -0.103563 -0.409297 -0.697687 -0.186554 -0.759180   \n",
      "1     -0.043823  0.250603 -0.206608 -0.431889 -0.625440 -0.186554 -0.857891   \n",
      "2      0.929024 -0.117262 -0.258130  0.449174  1.633919 -0.186554 -0.311182   \n",
      "3     -0.755717  0.870769 -0.258130 -0.499663 -0.750230 -0.186554 -0.857891   \n",
      "4     -0.832188  0.042802 -0.000518 -0.431889 -0.737094 -0.186554  1.913621   \n",
      "...         ...       ...       ...       ...       ...       ...       ...   \n",
      "39111  0.582797 -1.007656 -0.309653 -0.499663 -0.789637 -0.186554 -0.857891   \n",
      "39112  0.225016 -1.076347 -0.206608  3.250499  0.274363 -0.186554  1.382098   \n",
      "39113  1.239125  0.396410 -0.258130  2.550168  1.207006 -0.095725 -0.493418   \n",
      "39114  1.351906 -0.278622  0.411663 -0.522254 -0.343020 -0.186554 -0.857891   \n",
      "39115 -0.867581  0.826055 -0.258130 -0.409297  0.307203  0.085934  1.617487   \n",
      "\n",
      "       7    8    9    ...  221  222  223  224  225  226  227  228  229  230  \n",
      "0      0.0  1.0  0.0  ...  0.0  0.0  0.0  0.0  0.0  0.0  0.0  0.0  0.0  0.0  \n",
      "1      1.0  0.0  0.0  ...  0.0  0.0  0.0  0.0  0.0  0.0  0.0  0.0  0.0  1.0  \n",
      "2      0.0  1.0  0.0  ...  0.0  0.0  0.0  0.0  0.0  0.0  0.0  0.0  0.0  1.0  \n",
      "3      1.0  0.0  0.0  ...  0.0  0.0  0.0  0.0  0.0  0.0  0.0  0.0  1.0  0.0  \n",
      "4      1.0  0.0  0.0  ...  0.0  0.0  0.0  0.0  0.0  0.0  0.0  0.0  0.0  0.0  \n",
      "...    ...  ...  ...  ...  ...  ...  ...  ...  ...  ...  ...  ...  ...  ...  \n",
      "39111  0.0  1.0  0.0  ...  0.0  0.0  0.0  0.0  0.0  0.0  0.0  0.0  1.0  0.0  \n",
      "39112  0.0  1.0  0.0  ...  0.0  0.0  0.0  0.0  0.0  0.0  0.0  0.0  1.0  0.0  \n",
      "39113  0.0  1.0  0.0  ...  0.0  0.0  0.0  0.0  0.0  0.0  0.0  0.0  1.0  0.0  \n",
      "39114  0.0  1.0  0.0  ...  0.0  0.0  0.0  0.0  0.0  0.0  0.0  0.0  0.0  0.0  \n",
      "39115  1.0  0.0  0.0  ...  0.0  0.0  0.0  0.0  0.0  0.0  0.0  0.0  1.0  0.0  \n",
      "\n",
      "[39116 rows x 231 columns]\n",
      "Number of columns after transformation: 231\n"
     ]
    }
   ],
   "source": [
    "# importing the required libraries\n",
    "from sklearn.compose import ColumnTransformer\n",
    "\n",
    "# combine numerical and categorical pipelines into one ColumnTransformer\n",
    "full_pipeline = ColumnTransformer(transformers=[\n",
    "    ('num', numerical_pipeline, numerical_features),  # apply numerical pipeline to numerical features\n",
    "    ('cat', categorical_pipeline, categorical_features)  # apply categorical pipeline to categorical features\n",
    "])\n",
    "\n",
    "# fit and transform the training data\n",
    "X_train_transformed = full_pipeline.fit_transform(X_train)\n",
    "\n",
    "# convert the transformed data to a DataFrame to inspect the result\n",
    "X_train_transformed_df = pd.DataFrame(X_train_transformed.toarray() if hasattr(X_train_transformed, 'toarray') else X_train_transformed)\n",
    "\n",
    "# print the transformed DataFrame to verify no missing values and correct number of columns\n",
    "print(X_train_transformed_df)\n",
    "\n",
    "# print the number of columns in the transformed data\n",
    "print(f\"Number of columns after transformation: {X_train_transformed_df.shape[1]}\")"
   ]
  },
  {
   "cell_type": "markdown",
   "metadata": {},
   "source": [
    "## Question 6: \n",
    "\n",
    "Add a linear regression model to the pipeline.\n",
    "- Report what the $R^2$ is using the `test` data.  "
   ]
  },
  {
   "cell_type": "code",
   "execution_count": 17,
   "metadata": {},
   "outputs": [
    {
     "name": "stdout",
     "output_type": "stream",
     "text": [
      "R^2 score on the test data: 0.10435442225632507\n"
     ]
    },
    {
     "name": "stderr",
     "output_type": "stream",
     "text": [
      "/opt/anaconda3/lib/python3.12/site-packages/sklearn/preprocessing/_encoders.py:241: UserWarning: Found unknown categories in columns [1] during transform. These unknown categories will be encoded as all zeros\n",
      "  warnings.warn(\n"
     ]
    }
   ],
   "source": [
    "# importing the required libraries\n",
    "from sklearn.linear_model import LinearRegression\n",
    "from sklearn.metrics import r2_score\n",
    "\n",
    "# create a final pipeline by adding a linear regression model\n",
    "final_pipeline = Pipeline(steps=[\n",
    "    ('preprocessor', full_pipeline),\n",
    "    ('regressor', LinearRegression())  # Add Linear Regression model\n",
    "])\n",
    "\n",
    "# fit the pipeline on the training data\n",
    "final_pipeline.fit(X_train, y_train)\n",
    "\n",
    "# predict on the test data\n",
    "y_pred = final_pipeline.predict(X_test)\n",
    "\n",
    "# calculate R^2 score\n",
    "r2 = r2_score(y_test, y_pred)\n",
    "\n",
    "# output the R^2 score\n",
    "print(f\"R^2 score on the test data: {r2}\")"
   ]
  },
  {
   "cell_type": "markdown",
   "metadata": {},
   "source": [
    "> The R2 score of approximately 0.10 indicates that our linear regression model explains only about 10.4% of the variation in Airbnb prices, suggesting that there are many other factors influencing prices that our model isn't capturing."
   ]
  },
  {
   "cell_type": "markdown",
   "metadata": {},
   "source": [
    "## Question 7: \n",
    "\n",
    "Create a plot(s) of the residuals. Do you have any concerns about patterns in the residuals that the model is neglecting to pick-up?\n",
    "- Include a sentence or two on what you observe."
   ]
  },
  {
   "cell_type": "code",
   "execution_count": 20,
   "metadata": {},
   "outputs": [
    {
     "data": {
      "image/png": "[encoded data removed]",
      "text/plain": [
       "<Figure size 1000x600 with 1 Axes>"
      ]
     },
     "metadata": {},
     "output_type": "display_data"
    },
    {
     "data": {
      "image/png": "[encoded data removed]",
      "text/plain": [
       "<Figure size 1000x600 with 1 Axes>"
      ]
     },
     "metadata": {},
     "output_type": "display_data"
    }
   ],
   "source": [
    "# importing the required libraries\n",
    "import matplotlib.pyplot as plt\n",
    "import seaborn as sns\n",
    "\n",
    "# calculate the residuals\n",
    "residuals = y_test - y_pred\n",
    "\n",
    "# create a scatter plot of residuals vs. predicted values\n",
    "plt.figure(figsize=(10, 6))\n",
    "plt.scatter(y_pred, residuals, color='blue', edgecolor='k')\n",
    "plt.axhline(y=0, color='red', linestyle='--')\n",
    "plt.title('Residual Plot: Predicted vs. Residuals')\n",
    "plt.xlabel('Predicted Values')\n",
    "plt.ylabel('Residuals')\n",
    "plt.grid(True)\n",
    "plt.show()\n",
    "\n",
    "# create a histogram of the residuals to check their distribution\n",
    "plt.figure(figsize=(10, 6))\n",
    "sns.histplot(residuals, bins=50, kde=True, color='blue')\n",
    "plt.axvline(x=0, color='red', linestyle='--')\n",
    "plt.title('Histogram of Residuals')\n",
    "plt.xlabel('Residuals')\n",
    "plt.ylabel('Frequency')\n",
    "plt.show()\n"
   ]
  },
  {
   "cell_type": "markdown",
   "metadata": {},
   "source": [
    ">- The spread of points shows that most predictions cluster near zero residuals, but some extreme predictions deviate significantly, indicating potential outliers or variance issues.\n",
    ">- The second graph depicts the residuals are mostly close to zero but skewed, with a long tail on the right, suggesting that a few predictions have large errors."
   ]
  },
  {
   "cell_type": "markdown",
   "metadata": {},
   "source": [
    "## Question 8: \n",
    "\n",
    "Modify the pipeline to use a ridge regression model with an alpha value of 100. How does this change the $R^2$?"
   ]
  },
  {
   "cell_type": "code",
   "execution_count": 23,
   "metadata": {},
   "outputs": [
    {
     "name": "stdout",
     "output_type": "stream",
     "text": [
      "R^2 score with Ridge regression (alpha=100): 0.1044660779954718\n"
     ]
    },
    {
     "name": "stderr",
     "output_type": "stream",
     "text": [
      "/opt/anaconda3/lib/python3.12/site-packages/sklearn/preprocessing/_encoders.py:241: UserWarning: Found unknown categories in columns [1] during transform. These unknown categories will be encoded as all zeros\n",
      "  warnings.warn(\n"
     ]
    }
   ],
   "source": [
    "# importing the required libraries\n",
    "from sklearn.linear_model import Ridge\n",
    "\n",
    "# modifying the pipeline to use ridge regression with alpha=100\n",
    "ridge_pipeline = Pipeline(steps=[\n",
    "    ('preprocessor', full_pipeline),\n",
    "    ('regressor', Ridge(alpha=100))\n",
    "])\n",
    "\n",
    "# fit the pipeline on the training data\n",
    "ridge_pipeline.fit(X_train, y_train)\n",
    "\n",
    "# predict on the test data\n",
    "y_pred_ridge = ridge_pipeline.predict(X_test)\n",
    "\n",
    "# calculate the R^2 score for the Ridge model\n",
    "r2_ridge = r2_score(y_test, y_pred_ridge)\n",
    "\n",
    "# output the R^2 score for Ridge regression\n",
    "print(f\"R^2 score with Ridge regression (alpha=100): {r2_ridge}\")"
   ]
  },
  {
   "cell_type": "markdown",
   "metadata": {},
   "source": [
    "> The R2 score of approximately 0.10 with Ridge regression (alpha=100) shows a very slight improvement, indicating that this model explains about 10.4% of the variation in Airbnb prices, but it still highlights that significant factors influencing prices are likely missing from our analysis."
   ]
  },
  {
   "cell_type": "code",
   "execution_count": null,
   "metadata": {},
   "outputs": [],
   "source": []
  }
 ],
 "metadata": {
  "kernelspec": {
   "display_name": "Python 3 (ipykernel)",
   "language": "python",
   "name": "python3"
  },
  "language_info": {
   "codemirror_mode": {
    "name": "ipython",
    "version": 3
   },
   "file_extension": ".py",
   "mimetype": "text/x-python",
   "name": "python",
   "nbconvert_exporter": "python",
   "pygments_lexer": "ipython3",
   "version": "3.12.4"
  },
  "toc": {
   "base_numbering": 1,
   "nav_menu": {},
   "number_sections": true,
   "sideBar": true,
   "skip_h1_title": false,
   "title_cell": "Table of Contents",
   "title_sidebar": "Contents",
   "toc_cell": false,
   "toc_position": {},
   "toc_section_display": true,
   "toc_window_display": false
  }
 },
 "nbformat": 4,
 "nbformat_minor": 4
}
