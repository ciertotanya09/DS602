{
 "cells": [
  {
   "cell_type": "markdown",
   "metadata": {
    "id": "AtVpZS7ZWJYZ"
   },
   "source": [
    "# Homework 2\n",
    "\n",
    "In this homework, we are gonna perform some EDA work on our browser history!\n",
    "\n",
    "Extract & prepare your history dataset using: `https://github.com/msaricaumbc/DS601/blob/main/Week09/homework/preparation_BrowserHistory.ipynb`\n",
    "\n",
    "DO NOT commit your history dataset!\n",
    "\n",
    "Watch this: https://www.youtube.com/watch?v=iFTWM7HV2UI"
   ]
  },
  {
   "cell_type": "code",
   "execution_count": 2,
   "metadata": {
    "id": "nNxCRgCgWJYb"
   },
   "outputs": [],
   "source": [
    "import pandas as pd\n",
    "import matplotlib.pyplot as plt"
   ]
  },
  {
   "cell_type": "code",
   "execution_count": 3,
   "metadata": {
    "id": "JHADTd4SWJYb",
    "outputId": "d108166d-43ef-4989-872a-1ae89a2bf285"
   },
   "outputs": [
    {
     "data": {
      "text/plain": [
       "(3830, 2)"
      ]
     },
     "execution_count": 3,
     "metadata": {},
     "output_type": "execute_result"
    }
   ],
   "source": [
    "# this data is only for a month\n",
    "df = pd.read_csv('/Users/tanyawalia/Downloads/browing_history.csv')\n",
    "df.shape"
   ]
  },
  {
   "cell_type": "code",
   "execution_count": 4,
   "metadata": {
    "id": "_fWd4BUeWJYc",
    "outputId": "1d716822-e596-4c5e-f48a-1176e95cd117"
   },
   "outputs": [
    {
     "name": "stdout",
     "output_type": "stream",
     "text": [
      "<class 'pandas.core.frame.DataFrame'>\n",
      "RangeIndex: 3830 entries, 0 to 3829\n",
      "Data columns (total 2 columns):\n",
      " #   Column      Non-Null Count  Dtype \n",
      "---  ------      --------------  ----- \n",
      " 0   url_domain  3807 non-null   object\n",
      " 1   time        3830 non-null   object\n",
      "dtypes: object(2)\n",
      "memory usage: 60.0+ KB\n"
     ]
    }
   ],
   "source": [
    "# getting the information about the data\n",
    "df.info()"
   ]
  },
  {
   "cell_type": "code",
   "execution_count": 5,
   "metadata": {
    "id": "NB226OI3WJYc",
    "outputId": "5ce76513-8193-4c95-9000-bff4ed292966"
   },
   "outputs": [
    {
     "data": {
      "text/html": [
       "<div>\n",
       "<style scoped>\n",
       "    .dataframe tbody tr th:only-of-type {\n",
       "        vertical-align: middle;\n",
       "    }\n",
       "\n",
       "    .dataframe tbody tr th {\n",
       "        vertical-align: top;\n",
       "    }\n",
       "\n",
       "    .dataframe thead th {\n",
       "        text-align: right;\n",
       "    }\n",
       "</style>\n",
       "<table border=\"1\" class=\"dataframe\">\n",
       "  <thead>\n",
       "    <tr style=\"text-align: right;\">\n",
       "      <th></th>\n",
       "      <th>url_domain</th>\n",
       "      <th>time</th>\n",
       "    </tr>\n",
       "  </thead>\n",
       "  <tbody>\n",
       "    <tr>\n",
       "      <th>0</th>\n",
       "      <td>chromewebstore.google.com</td>\n",
       "      <td>2024-09-19 1:09:22</td>\n",
       "    </tr>\n",
       "    <tr>\n",
       "      <th>1</th>\n",
       "      <td>chromewebstore.google.com</td>\n",
       "      <td>2024-09-19 1:09:21</td>\n",
       "    </tr>\n",
       "    <tr>\n",
       "      <th>2</th>\n",
       "      <td>www.google.com</td>\n",
       "      <td>2024-09-19 1:09:20</td>\n",
       "    </tr>\n",
       "    <tr>\n",
       "      <th>3</th>\n",
       "      <td>www.google.com</td>\n",
       "      <td>2024-09-19 1:09:19</td>\n",
       "    </tr>\n",
       "    <tr>\n",
       "      <th>4</th>\n",
       "      <td>www.google.com</td>\n",
       "      <td>2024-09-19 1:09:13</td>\n",
       "    </tr>\n",
       "  </tbody>\n",
       "</table>\n",
       "</div>"
      ],
      "text/plain": [
       "                  url_domain                time\n",
       "0  chromewebstore.google.com  2024-09-19 1:09:22\n",
       "1  chromewebstore.google.com  2024-09-19 1:09:21\n",
       "2             www.google.com  2024-09-19 1:09:20\n",
       "3             www.google.com  2024-09-19 1:09:19\n",
       "4             www.google.com  2024-09-19 1:09:13"
      ]
     },
     "execution_count": 5,
     "metadata": {},
     "output_type": "execute_result"
    }
   ],
   "source": [
    "# looking at the top 5 rows of my dataset to know what type of information is stored in which column\n",
    "df.head()"
   ]
  },
  {
   "cell_type": "code",
   "execution_count": 6,
   "metadata": {
    "id": "h43a_yw1WJYc",
    "outputId": "2c63e7a3-c02c-481c-f130-7dc170b773c6"
   },
   "outputs": [
    {
     "data": {
      "text/plain": [
       "url_domain    23\n",
       "time           0\n",
       "dtype: int64"
      ]
     },
     "execution_count": 6,
     "metadata": {},
     "output_type": "execute_result"
    }
   ],
   "source": [
    "# checking if there are any null values in the dataset\n",
    "df.isna().sum()"
   ]
  },
  {
   "cell_type": "code",
   "execution_count": 7,
   "metadata": {
    "id": "2ov9f2vrWJYc"
   },
   "outputs": [],
   "source": [
    "# dropping the columns permanently with the null values\n",
    "df.dropna(inplace=True)"
   ]
  },
  {
   "cell_type": "code",
   "execution_count": 8,
   "metadata": {
    "id": "I7X0fNE0WJYd",
    "outputId": "9b1ca130-ce7d-498c-8660-665149700f58"
   },
   "outputs": [
    {
     "data": {
      "text/plain": [
       "3807"
      ]
     },
     "execution_count": 8,
     "metadata": {},
     "output_type": "execute_result"
    }
   ],
   "source": [
    "# time column is string and string date is starting with YYYY, so I can do string compares\n",
    "sum(df['time'] < '2025')"
   ]
  },
  {
   "cell_type": "code",
   "execution_count": 9,
   "metadata": {
    "id": "lMKYKVJSWJYd"
   },
   "outputs": [],
   "source": [
    "# I filter and get a copy, so I will not work on a slice, this will be a new dataframe. (essentially losing 1900 data points)\n",
    "df = df[df.time > '2024'].copy()"
   ]
  },
  {
   "cell_type": "code",
   "execution_count": 10,
   "metadata": {
    "id": "Zz_5I5IwWJYd"
   },
   "outputs": [],
   "source": [
    "df['time'] = pd.to_datetime(df['time'])"
   ]
  },
  {
   "cell_type": "code",
   "execution_count": 11,
   "metadata": {
    "id": "J64kvzL_WJYd"
   },
   "outputs": [],
   "source": [
    "# df['domain'] = df['domain'].astype(str)"
   ]
  },
  {
   "cell_type": "code",
   "execution_count": 12,
   "metadata": {
    "id": "6UDYvcPjWJYd",
    "outputId": "313687ad-b963-4a8a-b5ff-f0bf023525e5"
   },
   "outputs": [
    {
     "data": {
      "text/plain": [
       "url_domain            object\n",
       "time          datetime64[ns]\n",
       "dtype: object"
      ]
     },
     "execution_count": 12,
     "metadata": {},
     "output_type": "execute_result"
    }
   ],
   "source": [
    "df.dtypes"
   ]
  },
  {
   "cell_type": "code",
   "execution_count": 13,
   "metadata": {
    "id": "VpENGM-eWJYe",
    "outputId": "5e5464e8-bc45-4d26-db4b-f2c7c8951dc7"
   },
   "outputs": [
    {
     "data": {
      "text/html": [
       "<div>\n",
       "<style scoped>\n",
       "    .dataframe tbody tr th:only-of-type {\n",
       "        vertical-align: middle;\n",
       "    }\n",
       "\n",
       "    .dataframe tbody tr th {\n",
       "        vertical-align: top;\n",
       "    }\n",
       "\n",
       "    .dataframe thead th {\n",
       "        text-align: right;\n",
       "    }\n",
       "</style>\n",
       "<table border=\"1\" class=\"dataframe\">\n",
       "  <thead>\n",
       "    <tr style=\"text-align: right;\">\n",
       "      <th></th>\n",
       "      <th>url_domain</th>\n",
       "      <th>time</th>\n",
       "    </tr>\n",
       "  </thead>\n",
       "  <tbody>\n",
       "    <tr>\n",
       "      <th>0</th>\n",
       "      <td>chromewebstore.google.com</td>\n",
       "      <td>2024-09-19 01:09:22</td>\n",
       "    </tr>\n",
       "    <tr>\n",
       "      <th>1</th>\n",
       "      <td>chromewebstore.google.com</td>\n",
       "      <td>2024-09-19 01:09:21</td>\n",
       "    </tr>\n",
       "    <tr>\n",
       "      <th>2</th>\n",
       "      <td>www.google.com</td>\n",
       "      <td>2024-09-19 01:09:20</td>\n",
       "    </tr>\n",
       "    <tr>\n",
       "      <th>3</th>\n",
       "      <td>www.google.com</td>\n",
       "      <td>2024-09-19 01:09:19</td>\n",
       "    </tr>\n",
       "    <tr>\n",
       "      <th>4</th>\n",
       "      <td>www.google.com</td>\n",
       "      <td>2024-09-19 01:09:13</td>\n",
       "    </tr>\n",
       "  </tbody>\n",
       "</table>\n",
       "</div>"
      ],
      "text/plain": [
       "                  url_domain                time\n",
       "0  chromewebstore.google.com 2024-09-19 01:09:22\n",
       "1  chromewebstore.google.com 2024-09-19 01:09:21\n",
       "2             www.google.com 2024-09-19 01:09:20\n",
       "3             www.google.com 2024-09-19 01:09:19\n",
       "4             www.google.com 2024-09-19 01:09:13"
      ]
     },
     "execution_count": 13,
     "metadata": {},
     "output_type": "execute_result"
    }
   ],
   "source": [
    "df.head()"
   ]
  },
  {
   "cell_type": "code",
   "execution_count": 14,
   "metadata": {
    "id": "lGaU90uDWJYe",
    "outputId": "937ca957-f8eb-4b34-83f6-ecb903b4d083"
   },
   "outputs": [
    {
     "data": {
      "text/plain": [
       "url_domain\n",
       "mail.google.com                       721\n",
       "www.google.com                        417\n",
       "webauth.umbc.edu                      320\n",
       "app.joinhandshake.com                 318\n",
       "blackboard.umbc.edu                   248\n",
       "docs.google.com                       220\n",
       "api-4f567d87.duosecurity.com          146\n",
       "my.umbc.edu                           144\n",
       "commerce.cashnet.com                   88\n",
       "accounts.google.com                    64\n",
       "usmai-umbc.primo.exlibrisgroup.com     59\n",
       "my3.my.umbc.edu                        55\n",
       "us.shein.com                           50\n",
       "isss-portal.umbc.edu                   42\n",
       "colab.research.google.com              41\n",
       "careers.compassgroupcareers.com        37\n",
       "leanprover.zulipchat.com               35\n",
       "myretrievercare.umbc.edu               32\n",
       "umbcstudents-md.safecolleges.com       28\n",
       "account.3rdmil.com                     28\n",
       "discord.com                            27\n",
       "calendar.google.com                    24\n",
       "dineoncampus.com                       23\n",
       "csprd-web.ps.umbc.edu                  23\n",
       "courses.cs.umbc.edu                    20\n",
       "www.youtube.com                        20\n",
       "joinhandshake.com                      18\n",
       "www.csee.umbc.edu                      18\n",
       "studentcareers-jhuapl.icims.com        18\n",
       "students.convera.com                   17\n",
       "umbctickets.universitytickets.com      16\n",
       "sbs.umbc.edu                           16\n",
       "www.gradescope.com                     14\n",
       "ual-pro.taleo.net                      14\n",
       "www.linkedin.com                       14\n",
       "iral.cs.umbc.edu                       13\n",
       "micron.wd1.myworkdayjobs.com           12\n",
       "compassgroupprod.traitify.com          12\n",
       "meet.google.com                        12\n",
       "github.com                             11\n",
       "www.lockheedmartinjobs.com             11\n",
       "live.goswift.ly                        11\n",
       "gradschool.umbc.edu                    11\n",
       "careers.jpmorgan.com                   10\n",
       "transit.umbc.edu                       10\n",
       "i94.cbp.dhs.gov                        10\n",
       "careers.micron.com                     10\n",
       "esi.umbc.edu                           10\n",
       "careers.jhuapl.edu                      9\n",
       "damslabumbc.github.io                   9\n",
       "Name: count, dtype: int64"
      ]
     },
     "execution_count": 14,
     "metadata": {},
     "output_type": "execute_result"
    }
   ],
   "source": [
    "df['url_domain'].value_counts()[:50]"
   ]
  },
  {
   "cell_type": "code",
   "execution_count": 15,
   "metadata": {
    "id": "o8G5awH7WJYe",
    "outputId": "8d48bdd4-78e9-424c-a9f5-73c547736c19"
   },
   "outputs": [
    {
     "data": {
      "text/plain": [
       "<Axes: xlabel='url_domain'>"
      ]
     },
     "execution_count": 15,
     "metadata": {},
     "output_type": "execute_result"
    },
    {
     "data": {
      "image/png": "[encoded data removed]",
      "text/plain": [
       "<Figure size 640x480 with 1 Axes>"
      ]
     },
     "metadata": {},
     "output_type": "display_data"
    }
   ],
   "source": [
    "# top 10 sites that were visited\n",
    "df['url_domain'].value_counts()[:10].plot(kind='bar')"
   ]
  },
  {
   "cell_type": "code",
   "execution_count": 16,
   "metadata": {
    "id": "i4ZLrR32WJYe",
    "outputId": "b518edb4-b0c2-447c-a8c9-f20693b6ab3d"
   },
   "outputs": [
    {
     "data": {
      "text/plain": [
       "time\n",
       "0     242\n",
       "1     144\n",
       "2     165\n",
       "3      32\n",
       "4       3\n",
       "5      72\n",
       "6     214\n",
       "7     180\n",
       "8     109\n",
       "9     184\n",
       "10     47\n",
       "11    254\n",
       "12    214\n",
       "13    211\n",
       "14    282\n",
       "15    348\n",
       "16    115\n",
       "17     54\n",
       "18     93\n",
       "19     22\n",
       "20     40\n",
       "21    107\n",
       "22    225\n",
       "23    450\n",
       "Name: url_domain, dtype: int64"
      ]
     },
     "execution_count": 16,
     "metadata": {},
     "output_type": "execute_result"
    }
   ],
   "source": [
    "hourly_counts = df.groupby(df.time.dt.hour).url_domain.size()\n",
    "hourly_counts"
   ]
  },
  {
   "cell_type": "code",
   "execution_count": 17,
   "metadata": {
    "id": "dhfjR7mlWJYe",
    "outputId": "f8a946df-deea-4aab-92b6-c490ccf24836"
   },
   "outputs": [
    {
     "data": {
      "text/plain": [
       "<Axes: xlabel='time'>"
      ]
     },
     "execution_count": 17,
     "metadata": {},
     "output_type": "execute_result"
    },
    {
     "data": {
      "image/png": "[encoded data removed]",
      "text/plain": [
       "<Figure size 640x480 with 1 Axes>"
      ]
     },
     "metadata": {},
     "output_type": "display_data"
    }
   ],
   "source": [
    "hourly_counts.plot.bar()"
   ]
  },
  {
   "cell_type": "code",
   "execution_count": 18,
   "metadata": {
    "id": "G8fXxsPrWJYe",
    "outputId": "f34220e7-878b-4087-d126-1e756eaf6bdb"
   },
   "outputs": [
    {
     "data": {
      "text/html": [
       "<div>\n",
       "<style scoped>\n",
       "    .dataframe tbody tr th:only-of-type {\n",
       "        vertical-align: middle;\n",
       "    }\n",
       "\n",
       "    .dataframe tbody tr th {\n",
       "        vertical-align: top;\n",
       "    }\n",
       "\n",
       "    .dataframe thead th {\n",
       "        text-align: right;\n",
       "    }\n",
       "</style>\n",
       "<table border=\"1\" class=\"dataframe\">\n",
       "  <thead>\n",
       "    <tr style=\"text-align: right;\">\n",
       "      <th></th>\n",
       "      <th>url_domain</th>\n",
       "      <th>time</th>\n",
       "      <th>Day</th>\n",
       "      <th>DayIndex</th>\n",
       "    </tr>\n",
       "  </thead>\n",
       "  <tbody>\n",
       "    <tr>\n",
       "      <th>0</th>\n",
       "      <td>chromewebstore.google.com</td>\n",
       "      <td>2024-09-19 01:09:22</td>\n",
       "      <td>Thursday</td>\n",
       "      <td>3</td>\n",
       "    </tr>\n",
       "    <tr>\n",
       "      <th>1</th>\n",
       "      <td>chromewebstore.google.com</td>\n",
       "      <td>2024-09-19 01:09:21</td>\n",
       "      <td>Thursday</td>\n",
       "      <td>3</td>\n",
       "    </tr>\n",
       "    <tr>\n",
       "      <th>2</th>\n",
       "      <td>www.google.com</td>\n",
       "      <td>2024-09-19 01:09:20</td>\n",
       "      <td>Thursday</td>\n",
       "      <td>3</td>\n",
       "    </tr>\n",
       "    <tr>\n",
       "      <th>3</th>\n",
       "      <td>www.google.com</td>\n",
       "      <td>2024-09-19 01:09:19</td>\n",
       "      <td>Thursday</td>\n",
       "      <td>3</td>\n",
       "    </tr>\n",
       "    <tr>\n",
       "      <th>4</th>\n",
       "      <td>www.google.com</td>\n",
       "      <td>2024-09-19 01:09:13</td>\n",
       "      <td>Thursday</td>\n",
       "      <td>3</td>\n",
       "    </tr>\n",
       "  </tbody>\n",
       "</table>\n",
       "</div>"
      ],
      "text/plain": [
       "                  url_domain                time       Day  DayIndex\n",
       "0  chromewebstore.google.com 2024-09-19 01:09:22  Thursday         3\n",
       "1  chromewebstore.google.com 2024-09-19 01:09:21  Thursday         3\n",
       "2             www.google.com 2024-09-19 01:09:20  Thursday         3\n",
       "3             www.google.com 2024-09-19 01:09:19  Thursday         3\n",
       "4             www.google.com 2024-09-19 01:09:13  Thursday         3"
      ]
     },
     "execution_count": 18,
     "metadata": {},
     "output_type": "execute_result"
    }
   ],
   "source": [
    "df['Day'] = [ d.day_name() for d in df['time']]\n",
    "df['DayIndex'] = [ d.dayofweek for d in df['time']]\n",
    "df.head()"
   ]
  },
  {
   "cell_type": "code",
   "execution_count": 19,
   "metadata": {
    "id": "fuhjCccFWJYe",
    "outputId": "869868ae-0d0e-4e31-cab3-9e248d5cb45e"
   },
   "outputs": [
    {
     "data": {
      "text/plain": [
       "Day\n",
       "Thursday     805\n",
       "Tuesday      764\n",
       "Monday       721\n",
       "Wednesday    597\n",
       "Friday       504\n",
       "Saturday     250\n",
       "Sunday       166\n",
       "Name: count, dtype: int64"
      ]
     },
     "execution_count": 19,
     "metadata": {},
     "output_type": "execute_result"
    }
   ],
   "source": [
    "df['Day'].value_counts()"
   ]
  },
  {
   "cell_type": "code",
   "execution_count": 20,
   "metadata": {
    "id": "Jpfp7Lg2WJYf",
    "outputId": "84c74be5-6ee0-4779-ff1a-b24c8aab6242"
   },
   "outputs": [
    {
     "data": {
      "text/plain": [
       "DayIndex\n",
       "0    721\n",
       "1    764\n",
       "2    597\n",
       "3    805\n",
       "4    504\n",
       "5    250\n",
       "6    166\n",
       "Name: count, dtype: int64"
      ]
     },
     "execution_count": 20,
     "metadata": {},
     "output_type": "execute_result"
    }
   ],
   "source": [
    "days_sorted = df['DayIndex'].value_counts().sort_index()\n",
    "days_sorted"
   ]
  },
  {
   "cell_type": "code",
   "execution_count": 21,
   "metadata": {
    "id": "Tlqxbn8QWJYf",
    "outputId": "b2a27ef3-cdf0-4af0-aac9-aac022dfc5a2"
   },
   "outputs": [
    {
     "data": {
      "image/png": "[encoded data removed]",
      "text/plain": [
       "<Figure size 640x480 with 1 Axes>"
      ]
     },
     "metadata": {},
     "output_type": "display_data"
    }
   ],
   "source": [
    "days_sorted.plot.bar()\n",
    "plt.xticks(days_sorted.index, ['M', 'T', 'W','Th', 'F', 'Sa', 'Su'], rotation=0)\n",
    "\n",
    "plt.show()"
   ]
  },
  {
   "cell_type": "code",
   "execution_count": 22,
   "metadata": {
    "id": "jLhLQg0-WJYf",
    "outputId": "f8c3b7aa-2e4a-4a55-a95c-dd6b31dd585f"
   },
   "outputs": [
    {
     "data": {
      "text/html": [
       "<div>\n",
       "<style scoped>\n",
       "    .dataframe tbody tr th:only-of-type {\n",
       "        vertical-align: middle;\n",
       "    }\n",
       "\n",
       "    .dataframe tbody tr th {\n",
       "        vertical-align: top;\n",
       "    }\n",
       "\n",
       "    .dataframe thead th {\n",
       "        text-align: right;\n",
       "    }\n",
       "</style>\n",
       "<table border=\"1\" class=\"dataframe\">\n",
       "  <thead>\n",
       "    <tr style=\"text-align: right;\">\n",
       "      <th></th>\n",
       "      <th>url_domain</th>\n",
       "      <th>time</th>\n",
       "      <th>Day</th>\n",
       "      <th>DayIndex</th>\n",
       "      <th>isWeekend</th>\n",
       "    </tr>\n",
       "  </thead>\n",
       "  <tbody>\n",
       "    <tr>\n",
       "      <th>0</th>\n",
       "      <td>chromewebstore.google.com</td>\n",
       "      <td>2024-09-19 01:09:22</td>\n",
       "      <td>Thursday</td>\n",
       "      <td>3</td>\n",
       "      <td>False</td>\n",
       "    </tr>\n",
       "    <tr>\n",
       "      <th>1</th>\n",
       "      <td>chromewebstore.google.com</td>\n",
       "      <td>2024-09-19 01:09:21</td>\n",
       "      <td>Thursday</td>\n",
       "      <td>3</td>\n",
       "      <td>False</td>\n",
       "    </tr>\n",
       "    <tr>\n",
       "      <th>2</th>\n",
       "      <td>www.google.com</td>\n",
       "      <td>2024-09-19 01:09:20</td>\n",
       "      <td>Thursday</td>\n",
       "      <td>3</td>\n",
       "      <td>False</td>\n",
       "    </tr>\n",
       "    <tr>\n",
       "      <th>3</th>\n",
       "      <td>www.google.com</td>\n",
       "      <td>2024-09-19 01:09:19</td>\n",
       "      <td>Thursday</td>\n",
       "      <td>3</td>\n",
       "      <td>False</td>\n",
       "    </tr>\n",
       "    <tr>\n",
       "      <th>4</th>\n",
       "      <td>www.google.com</td>\n",
       "      <td>2024-09-19 01:09:13</td>\n",
       "      <td>Thursday</td>\n",
       "      <td>3</td>\n",
       "      <td>False</td>\n",
       "    </tr>\n",
       "  </tbody>\n",
       "</table>\n",
       "</div>"
      ],
      "text/plain": [
       "                  url_domain                time       Day  DayIndex  \\\n",
       "0  chromewebstore.google.com 2024-09-19 01:09:22  Thursday         3   \n",
       "1  chromewebstore.google.com 2024-09-19 01:09:21  Thursday         3   \n",
       "2             www.google.com 2024-09-19 01:09:20  Thursday         3   \n",
       "3             www.google.com 2024-09-19 01:09:19  Thursday         3   \n",
       "4             www.google.com 2024-09-19 01:09:13  Thursday         3   \n",
       "\n",
       "   isWeekend  \n",
       "0      False  \n",
       "1      False  \n",
       "2      False  \n",
       "3      False  \n",
       "4      False  "
      ]
     },
     "execution_count": 22,
     "metadata": {},
     "output_type": "execute_result"
    }
   ],
   "source": [
    "def is_weekend(day):\n",
    "    return day in ['Saturday', 'Sunday']\n",
    "\n",
    "\n",
    "df['isWeekend'] = [ is_weekend(i) for i in df['Day']]\n",
    "df.head()"
   ]
  },
  {
   "cell_type": "code",
   "execution_count": 23,
   "metadata": {
    "id": "5xloAOjCWJYf"
   },
   "outputs": [],
   "source": [
    "weekend = df[ df['isWeekend'] == True ]\n",
    "\n",
    "weekday = df[ df['isWeekend'] == False ]\n"
   ]
  },
  {
   "cell_type": "code",
   "execution_count": 24,
   "metadata": {
    "id": "zWOD4gxDWJYf",
    "outputId": "f5f6425d-08be-4c89-dfae-f3175aef3b44"
   },
   "outputs": [
    {
     "data": {
      "text/html": [
       "<div>\n",
       "<style scoped>\n",
       "    .dataframe tbody tr th:only-of-type {\n",
       "        vertical-align: middle;\n",
       "    }\n",
       "\n",
       "    .dataframe tbody tr th {\n",
       "        vertical-align: top;\n",
       "    }\n",
       "\n",
       "    .dataframe thead th {\n",
       "        text-align: right;\n",
       "    }\n",
       "</style>\n",
       "<table border=\"1\" class=\"dataframe\">\n",
       "  <thead>\n",
       "    <tr style=\"text-align: right;\">\n",
       "      <th></th>\n",
       "      <th>url_domain</th>\n",
       "      <th>time</th>\n",
       "      <th>Day</th>\n",
       "      <th>DayIndex</th>\n",
       "      <th>isWeekend</th>\n",
       "    </tr>\n",
       "  </thead>\n",
       "  <tbody>\n",
       "    <tr>\n",
       "      <th>430</th>\n",
       "      <td>docs.google.com</td>\n",
       "      <td>2024-09-15 23:57:32</td>\n",
       "      <td>Sunday</td>\n",
       "      <td>6</td>\n",
       "      <td>True</td>\n",
       "    </tr>\n",
       "    <tr>\n",
       "      <th>431</th>\n",
       "      <td>docs.google.com</td>\n",
       "      <td>2024-09-15 23:57:22</td>\n",
       "      <td>Sunday</td>\n",
       "      <td>6</td>\n",
       "      <td>True</td>\n",
       "    </tr>\n",
       "    <tr>\n",
       "      <th>432</th>\n",
       "      <td>docs.google.com</td>\n",
       "      <td>2024-09-15 23:57:22</td>\n",
       "      <td>Sunday</td>\n",
       "      <td>6</td>\n",
       "      <td>True</td>\n",
       "    </tr>\n",
       "    <tr>\n",
       "      <th>433</th>\n",
       "      <td>docs.google.com</td>\n",
       "      <td>2024-09-15 23:57:21</td>\n",
       "      <td>Sunday</td>\n",
       "      <td>6</td>\n",
       "      <td>True</td>\n",
       "    </tr>\n",
       "    <tr>\n",
       "      <th>434</th>\n",
       "      <td>docs.google.com</td>\n",
       "      <td>2024-09-15 23:57:03</td>\n",
       "      <td>Sunday</td>\n",
       "      <td>6</td>\n",
       "      <td>True</td>\n",
       "    </tr>\n",
       "  </tbody>\n",
       "</table>\n",
       "</div>"
      ],
      "text/plain": [
       "          url_domain                time     Day  DayIndex  isWeekend\n",
       "430  docs.google.com 2024-09-15 23:57:32  Sunday         6       True\n",
       "431  docs.google.com 2024-09-15 23:57:22  Sunday         6       True\n",
       "432  docs.google.com 2024-09-15 23:57:22  Sunday         6       True\n",
       "433  docs.google.com 2024-09-15 23:57:21  Sunday         6       True\n",
       "434  docs.google.com 2024-09-15 23:57:03  Sunday         6       True"
      ]
     },
     "execution_count": 24,
     "metadata": {},
     "output_type": "execute_result"
    }
   ],
   "source": [
    "weekend.head()"
   ]
  },
  {
   "cell_type": "code",
   "execution_count": 25,
   "metadata": {
    "id": "vFFBMfoKWJYf",
    "outputId": "6c8177f1-a3f7-4851-cb16-f6fe363a0659"
   },
   "outputs": [
    {
     "data": {
      "text/plain": [
       "url_domain\n",
       "mail.google.com          657\n",
       "www.google.com           372\n",
       "webauth.umbc.edu         310\n",
       "app.joinhandshake.com    292\n",
       "blackboard.umbc.edu      235\n",
       "Name: count, dtype: int64"
      ]
     },
     "execution_count": 25,
     "metadata": {},
     "output_type": "execute_result"
    }
   ],
   "source": [
    "weekday['url_domain'].value_counts()[:5]"
   ]
  },
  {
   "cell_type": "code",
   "execution_count": 26,
   "metadata": {
    "id": "dJrWvPPOWJYf",
    "outputId": "5cc52372-ca0f-40fe-ef0a-6f4c64bb2d13"
   },
   "outputs": [
    {
     "data": {
      "text/plain": [
       "url_domain\n",
       "docs.google.com                    119\n",
       "mail.google.com                     64\n",
       "www.google.com                      45\n",
       "app.joinhandshake.com               26\n",
       "careers.compassgroupcareers.com     24\n",
       "Name: count, dtype: int64"
      ]
     },
     "execution_count": 26,
     "metadata": {},
     "output_type": "execute_result"
    }
   ],
   "source": [
    "weekend['url_domain'].value_counts()[:5]"
   ]
  },
  {
   "cell_type": "code",
   "execution_count": 27,
   "metadata": {
    "id": "7hqPVnDqWJYf",
    "outputId": "27b6b1ad-f769-43f9-8886-df1ac7cbf371"
   },
   "outputs": [
    {
     "data": {
      "image/png": "[encoded data removed]",
      "text/plain": [
       "<Figure size 1200x500 with 2 Axes>"
      ]
     },
     "metadata": {},
     "output_type": "display_data"
    }
   ],
   "source": [
    "def show_stats(df, color, alpha=1, title='', fig=None):\n",
    "    hourly_counts = df.groupby(df.time.dt.hour).url_domain.size()\n",
    "\n",
    "    # fill in the missing hours\n",
    "    for h in range(24):\n",
    "        if h not in hourly_counts:\n",
    "            hourly_counts[h]=0 # I initially didn't do this and hours were not lining up\n",
    "\n",
    "    if fig != None:\n",
    "        plt.subplot(1,2, fig)\n",
    "\n",
    "    hourly_counts.sort_index().plot.bar(color=color, alpha=alpha)\n",
    "    plt.title(title)\n",
    "    plt.ylim([0, 500])\n",
    "\n",
    "\n",
    "plt.figure(figsize=(12, 5))\n",
    "show_stats( weekend, 'red', 1, 'Weekend', 1)\n",
    "\n",
    "show_stats( weekday, 'blue', 0.5, 'Weekday', 2)\n",
    "\n",
    "plt.show()\n"
   ]
  },
  {
   "cell_type": "markdown",
   "metadata": {
    "id": "AUj-5iWlWJYg"
   },
   "source": [
    "Be skeptical!\n",
    "\n",
    "Am I on computer a lot more on the weekdays or it shows more simply because there are more weekdays"
   ]
  },
  {
   "cell_type": "code",
   "execution_count": 29,
   "metadata": {
    "id": "iyYLKJ2RWJYg",
    "outputId": "b59322ae-da62-4011-df51-f273ae2a1000"
   },
   "outputs": [
    {
     "name": "stderr",
     "output_type": "stream",
     "text": [
      "/var/folders/jq/h3wsr_9j7gnd8k9v19bk5gm40000gn/T/ipykernel_55857/2220845141.py:11: FutureWarning: Setting an item of incompatible dtype is deprecated and will raise an error in a future version of pandas. Value '355.55555555555554' has dtype incompatible with int64, please explicitly cast to a compatible dtype first.\n",
      "  hourly_counts[h] = hourly_counts[h] * 100.0 /  days_counts # I multiplied by 100.0 to make it float and also not to loose decimals\n",
      "/var/folders/jq/h3wsr_9j7gnd8k9v19bk5gm40000gn/T/ipykernel_55857/2220845141.py:11: FutureWarning: Setting an item of incompatible dtype is deprecated and will raise an error in a future version of pandas. Value '372.9166666666667' has dtype incompatible with int64, please explicitly cast to a compatible dtype first.\n",
      "  hourly_counts[h] = hourly_counts[h] * 100.0 /  days_counts # I multiplied by 100.0 to make it float and also not to loose decimals\n"
     ]
    },
    {
     "data": {
      "image/png": "[encoded data removed]",
      "text/plain": [
       "<Figure size 1200x500 with 2 Axes>"
      ]
     },
     "metadata": {},
     "output_type": "display_data"
    }
   ],
   "source": [
    "def show_stats(df, color, alpha=1, title='', fig=None, y_lim = None):\n",
    "    hourly_counts = df.groupby(df.time.dt.hour).url_domain.size()\n",
    "\n",
    "    days_counts = df.time.dt.date.nunique()\n",
    "\n",
    "    # fill in the missing hours\n",
    "    for h in range(24):\n",
    "        if h not in hourly_counts:\n",
    "            hourly_counts[h]=0 # I initially didn't do this and hours were not lining up\n",
    "        else:\n",
    "            hourly_counts[h] = hourly_counts[h] * 100.0 /  days_counts # I multiplied by 100.0 to make it float and also not to loose decimals\n",
    "\n",
    "    if fig != None:\n",
    "        plt.subplot(1,2, fig)\n",
    "\n",
    "    hourly_counts.sort_index().plot.bar(color=color, alpha=alpha, title=title)\n",
    "\n",
    "    if y_lim != None:\n",
    "        plt.ylim(y_lim)\n",
    "\n",
    "\n",
    "plt.figure(figsize=(12, 5))\n",
    "\n",
    "y_lim=[0, 1400]\n",
    "show_stats(weekend, 'red', 1, 'Weekend',fig=1, y_lim=y_lim)\n",
    "\n",
    "show_stats(weekday, 'blue', 0.5, 'Weekday',fig=2, y_lim=y_lim)\n",
    "\n",
    "plt.show()"
   ]
  },
  {
   "cell_type": "code",
   "execution_count": 30,
   "metadata": {
    "id": "ahV5RNxqWJYg",
    "outputId": "f60613db-f035-4ec5-c31c-885d3a4a10c3"
   },
   "outputs": [
    {
     "data": {
      "text/plain": [
       "url_domain\n",
       "mail.google.com                 721\n",
       "www.google.com                  417\n",
       "webauth.umbc.edu                320\n",
       "app.joinhandshake.com           318\n",
       "blackboard.umbc.edu             248\n",
       "docs.google.com                 220\n",
       "api-4f567d87.duosecurity.com    146\n",
       "my.umbc.edu                     144\n",
       "commerce.cashnet.com             88\n",
       "accounts.google.com              64\n",
       "Name: count, dtype: int64"
      ]
     },
     "execution_count": 30,
     "metadata": {},
     "output_type": "execute_result"
    }
   ],
   "source": [
    "df['url_domain'].value_counts()[:10]"
   ]
  },
  {
   "cell_type": "code",
   "execution_count": 31,
   "metadata": {
    "id": "lCvhP4SxWJYg"
   },
   "outputs": [],
   "source": [
    "def get_data_for_domain(val):\n",
    "    return df[df['url_domain'].str.lower().str.contains(val.lower(), regex=True)]\n",
    "\n",
    "# get_data_for_domain('youtube')"
   ]
  },
  {
   "cell_type": "code",
   "execution_count": 32,
   "metadata": {
    "id": "KfwOBK_4WJYg"
   },
   "outputs": [],
   "source": [
    "def show_domain_stats(domain, color='blue', alpha=1):\n",
    "    data = get_data_for_domain(domain)\n",
    "    show_stats(data, color, alpha)\n",
    "    return data"
   ]
  },
  {
   "cell_type": "code",
   "execution_count": 33,
   "metadata": {
    "id": "CXGDax8-WJYg",
    "outputId": "fbe4713d-9b4b-4ab3-f93e-773a3c92808a"
   },
   "outputs": [
    {
     "name": "stderr",
     "output_type": "stream",
     "text": [
      "/var/folders/jq/h3wsr_9j7gnd8k9v19bk5gm40000gn/T/ipykernel_55857/2220845141.py:11: FutureWarning: Setting an item of incompatible dtype is deprecated and will raise an error in a future version of pandas. Value '179.24528301886792' has dtype incompatible with int64, please explicitly cast to a compatible dtype first.\n",
      "  hourly_counts[h] = hourly_counts[h] * 100.0 /  days_counts # I multiplied by 100.0 to make it float and also not to loose decimals\n"
     ]
    },
    {
     "data": {
      "image/png": "[encoded data removed]",
      "text/plain": [
       "<Figure size 640x480 with 1 Axes>"
      ]
     },
     "metadata": {},
     "output_type": "display_data"
    }
   ],
   "source": [
    "_= show_domain_stats('google', 'blue')"
   ]
  },
  {
   "cell_type": "code",
   "execution_count": 34,
   "metadata": {
    "id": "e-Dvv3tfWJYg",
    "outputId": "7dc95a81-6389-48ba-a270-0b52aa50100e"
   },
   "outputs": [
    {
     "name": "stderr",
     "output_type": "stream",
     "text": [
      "/var/folders/jq/h3wsr_9j7gnd8k9v19bk5gm40000gn/T/ipykernel_55857/2220845141.py:11: FutureWarning: Setting an item of incompatible dtype is deprecated and will raise an error in a future version of pandas. Value '98.14814814814815' has dtype incompatible with int64, please explicitly cast to a compatible dtype first.\n",
      "  hourly_counts[h] = hourly_counts[h] * 100.0 /  days_counts # I multiplied by 100.0 to make it float and also not to loose decimals\n"
     ]
    },
    {
     "data": {
      "image/png": "[encoded data removed]",
      "text/plain": [
       "<Figure size 640x480 with 1 Axes>"
      ]
     },
     "metadata": {},
     "output_type": "display_data"
    }
   ],
   "source": [
    "_= show_domain_stats('umbc', 'blue')"
   ]
  },
  {
   "cell_type": "code",
   "execution_count": 35,
   "metadata": {
    "id": "8_srmA7gWJYh",
    "outputId": "e5403af2-46c8-4b00-ec1f-98eb7cb82ea6"
   },
   "outputs": [
    {
     "data": {
      "image/png": "[encoded data removed]",
      "text/plain": [
       "<Figure size 640x480 with 1 Axes>"
      ]
     },
     "metadata": {},
     "output_type": "display_data"
    }
   ],
   "source": [
    "_ = show_domain_stats('chatgpt', 'green')"
   ]
  },
  {
   "cell_type": "code",
   "execution_count": 36,
   "metadata": {
    "id": "tSKnp5WOWJYh",
    "outputId": "b7ab669e-a15a-48e8-ac67-43c57fca4f32"
   },
   "outputs": [
    {
     "name": "stderr",
     "output_type": "stream",
     "text": [
      "/var/folders/jq/h3wsr_9j7gnd8k9v19bk5gm40000gn/T/ipykernel_55857/2220845141.py:11: FutureWarning: Setting an item of incompatible dtype is deprecated and will raise an error in a future version of pandas. Value '82.05128205128206' has dtype incompatible with int64, please explicitly cast to a compatible dtype first.\n",
      "  hourly_counts[h] = hourly_counts[h] * 100.0 /  days_counts # I multiplied by 100.0 to make it float and also not to loose decimals\n"
     ]
    },
    {
     "data": {
      "image/png": "[encoded data removed]",
      "text/plain": [
       "<Figure size 640x480 with 1 Axes>"
      ]
     },
     "metadata": {},
     "output_type": "display_data"
    }
   ],
   "source": [
    "_ = show_domain_stats('handshake', 'red')"
   ]
  },
  {
   "cell_type": "code",
   "execution_count": 37,
   "metadata": {
    "id": "O_sDFzRiWJYh",
    "outputId": "f741d077-0f7b-454f-ba7f-dce09d740ba4"
   },
   "outputs": [
    {
     "name": "stderr",
     "output_type": "stream",
     "text": [
      "/var/folders/jq/h3wsr_9j7gnd8k9v19bk5gm40000gn/T/ipykernel_55857/2220845141.py:11: FutureWarning: Setting an item of incompatible dtype is deprecated and will raise an error in a future version of pandas. Value '9.090909090909092' has dtype incompatible with int64, please explicitly cast to a compatible dtype first.\n",
      "  hourly_counts[h] = hourly_counts[h] * 100.0 /  days_counts # I multiplied by 100.0 to make it float and also not to loose decimals\n"
     ]
    },
    {
     "data": {
      "image/png": "[encoded data removed]",
      "text/plain": [
       "<Figure size 640x480 with 1 Axes>"
      ]
     },
     "metadata": {},
     "output_type": "display_data"
    }
   ],
   "source": [
    "_ = show_domain_stats('github', 'red')"
   ]
  },
  {
   "cell_type": "code",
   "execution_count": 38,
   "metadata": {
    "id": "JnMDZPaBWJYh",
    "outputId": "5f053931-5cfd-4f07-b5f6-24586ff077f6"
   },
   "outputs": [
    {
     "name": "stderr",
     "output_type": "stream",
     "text": [
      "/var/folders/jq/h3wsr_9j7gnd8k9v19bk5gm40000gn/T/ipykernel_55857/2220845141.py:11: FutureWarning: Setting an item of incompatible dtype is deprecated and will raise an error in a future version of pandas. Value '37.5' has dtype incompatible with int64, please explicitly cast to a compatible dtype first.\n",
      "  hourly_counts[h] = hourly_counts[h] * 100.0 /  days_counts # I multiplied by 100.0 to make it float and also not to loose decimals\n"
     ]
    },
    {
     "data": {
      "image/png": "[encoded data removed]",
      "text/plain": [
       "<Figure size 640x480 with 1 Axes>"
      ]
     },
     "metadata": {},
     "output_type": "display_data"
    }
   ],
   "source": [
    "_ = show_domain_stats('linkedin', 'red')"
   ]
  },
  {
   "cell_type": "code",
   "execution_count": 39,
   "metadata": {
    "id": "ynkdVi_lWJYi",
    "outputId": "259b03d9-39c3-4683-f10c-1ca32d75b2b2"
   },
   "outputs": [
    {
     "data": {
      "image/png": "[encoded data removed]",
      "text/plain": [
       "<Figure size 640x480 with 1 Axes>"
      ]
     },
     "metadata": {},
     "output_type": "display_data"
    }
   ],
   "source": [
    "_=show_domain_stats('amazon|shein', 'black')"
   ]
  },
  {
   "cell_type": "markdown",
   "metadata": {
    "id": "QdUtTd-RWJYi"
   },
   "source": [
    "### Based on data, what can we tell about this person?\n",
    "\n",
    "1. Is this a work computer/personal computer?\n",
    ">- This is a personal computer\n",
    "3. Is user employed?\n",
    ">- Since, the user is spending more time on UMBC wesbite for authentication, the person is likely to be a student.\n",
    "4. What is his interests?\n",
    ">  The person is looking for a job on handshake and spends more time on google and gmail.\n",
    "5. Anything interesting?\n",
    ">  This person visit online shopping platforms very occasionally (quite strange)."
   ]
  },
  {
   "cell_type": "code",
   "execution_count": null,
   "metadata": {
    "id": "pJVOIyy9WJYi"
   },
   "outputs": [],
   "source": []
  }
 ],
 "metadata": {
  "colab": {
   "provenance": []
  },
  "kernelspec": {
   "display_name": "Python 3 (ipykernel)",
   "language": "python",
   "name": "python3"
  },
  "language_info": {
   "codemirror_mode": {
    "name": "ipython",
    "version": 3
   },
   "file_extension": ".py",
   "mimetype": "text/x-python",
   "name": "python",
   "nbconvert_exporter": "python",
   "pygments_lexer": "ipython3",
   "version": "3.12.4"
  },
  "toc": {
   "base_numbering": 1,
   "nav_menu": {},
   "number_sections": true,
   "sideBar": true,
   "skip_h1_title": false,
   "title_cell": "Table of Contents",
   "title_sidebar": "Contents",
   "toc_cell": false,
   "toc_position": {},
   "toc_section_display": true,
   "toc_window_display": false
  },
  "varInspector": {
   "cols": {
    "lenName": 16,
    "lenType": 16,
    "lenVar": 40
   },
   "kernels_config": {
    "python": {
     "delete_cmd_postfix": "",
     "delete_cmd_prefix": "del ",
     "library": "var_list.py",
     "varRefreshCmd": "print(var_dic_list())"
    },
    "r": {
     "delete_cmd_postfix": ") ",
     "delete_cmd_prefix": "rm(",
     "library": "var_list.r",
     "varRefreshCmd": "cat(var_dic_list()) "
    }
   },
   "types_to_exclude": [
    "module",
    "function",
    "builtin_function_or_method",
    "instance",
    "_Feature"
   ],
   "window_display": false
  }
 },
 "nbformat": 4,
 "nbformat_minor": 4
}
