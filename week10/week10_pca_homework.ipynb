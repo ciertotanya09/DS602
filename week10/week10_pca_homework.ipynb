{
 "cells": [
  {
   "cell_type": "markdown",
   "metadata": {
    "id": "AyBXuYRQAmHM"
   },
   "source": [
    "# Week 10 - PCA and Dimension Reduction Homework\n",
    "Execute the below code and answer the following questions. __Do NOT commit the csv file!__"
   ]
  },
  {
   "cell_type": "code",
   "execution_count": 2,
   "metadata": {},
   "outputs": [],
   "source": [
    "from sklearn.preprocessing import StandardScaler\n",
    "from sklearn.decomposition import PCA\n",
    "from sklearn.linear_model import LogisticRegression\n",
    "from sklearn.tree import DecisionTreeClassifier\n",
    "from sklearn.metrics import classification_report, confusion_matrix\n",
    "from sklearn.model_selection import GridSearchCV\n",
    "from sklearn.pipeline import Pipeline"
   ]
  },
  {
   "cell_type": "code",
   "execution_count": 3,
   "metadata": {
    "id": "S1HWRgZAAmHP"
   },
   "outputs": [],
   "source": [
    "import pandas as pd\n",
    "import numpy as np\n",
    "import matplotlib.pyplot as plt\n",
    "%matplotlib inline\n",
    "from sklearn.datasets import make_classification\n",
    "\n",
    "def generate_data():\n",
    "    x, y = make_classification(n_samples=1500,\n",
    "                            n_features = 20,\n",
    "                            n_informative = 8,\n",
    "                            n_redundant = 5,\n",
    "                            n_repeated = 1,\n",
    "                            n_classes = 3,\n",
    "                            weights = (0.5, 0.25, 0.25),\n",
    "                            random_state = 120\n",
    "                            )\n",
    "    colNames = ['var'+str(x) for x in range(20)]\n",
    "    colNames.append('target')\n",
    "\n",
    "    df = pd.DataFrame(np.concatenate((x,y.reshape(-1,1)), axis=1), columns=colNames)\n",
    "#     df.to_csv('pca-dataset.csv', index=False)\n",
    "    return df\n",
    "\n",
    "df = generate_data()"
   ]
  },
  {
   "cell_type": "code",
   "execution_count": 4,
   "metadata": {
    "id": "DBny3QxrAmHR",
    "outputId": "24177a00-a2b1-48de-abc3-7171c36432f5"
   },
   "outputs": [
    {
     "data": {
      "text/html": [
       "<div>\n",
       "<style scoped>\n",
       "    .dataframe tbody tr th:only-of-type {\n",
       "        vertical-align: middle;\n",
       "    }\n",
       "\n",
       "    .dataframe tbody tr th {\n",
       "        vertical-align: top;\n",
       "    }\n",
       "\n",
       "    .dataframe thead th {\n",
       "        text-align: right;\n",
       "    }\n",
       "</style>\n",
       "<table border=\"1\" class=\"dataframe\">\n",
       "  <thead>\n",
       "    <tr style=\"text-align: right;\">\n",
       "      <th></th>\n",
       "      <th>var0</th>\n",
       "      <th>var1</th>\n",
       "      <th>var2</th>\n",
       "      <th>var3</th>\n",
       "      <th>var4</th>\n",
       "      <th>var5</th>\n",
       "      <th>var6</th>\n",
       "      <th>var7</th>\n",
       "      <th>var8</th>\n",
       "      <th>var9</th>\n",
       "      <th>...</th>\n",
       "      <th>var11</th>\n",
       "      <th>var12</th>\n",
       "      <th>var13</th>\n",
       "      <th>var14</th>\n",
       "      <th>var15</th>\n",
       "      <th>var16</th>\n",
       "      <th>var17</th>\n",
       "      <th>var18</th>\n",
       "      <th>var19</th>\n",
       "      <th>target</th>\n",
       "    </tr>\n",
       "  </thead>\n",
       "  <tbody>\n",
       "    <tr>\n",
       "      <th>0</th>\n",
       "      <td>-2.882513</td>\n",
       "      <td>-3.272465</td>\n",
       "      <td>-2.520732</td>\n",
       "      <td>-1.987174</td>\n",
       "      <td>-2.073689</td>\n",
       "      <td>-3.272465</td>\n",
       "      <td>-1.237969</td>\n",
       "      <td>1.690547</td>\n",
       "      <td>-0.211314</td>\n",
       "      <td>-5.753190</td>\n",
       "      <td>...</td>\n",
       "      <td>-0.574979</td>\n",
       "      <td>-1.916275</td>\n",
       "      <td>-5.994075</td>\n",
       "      <td>-3.349615</td>\n",
       "      <td>-0.846193</td>\n",
       "      <td>2.491347</td>\n",
       "      <td>1.360958</td>\n",
       "      <td>-2.892522</td>\n",
       "      <td>-1.377561</td>\n",
       "      <td>0.0</td>\n",
       "    </tr>\n",
       "    <tr>\n",
       "      <th>1</th>\n",
       "      <td>0.775242</td>\n",
       "      <td>-1.015994</td>\n",
       "      <td>0.005137</td>\n",
       "      <td>0.057274</td>\n",
       "      <td>0.590205</td>\n",
       "      <td>-1.015994</td>\n",
       "      <td>1.350954</td>\n",
       "      <td>-1.493037</td>\n",
       "      <td>-0.862391</td>\n",
       "      <td>-1.986047</td>\n",
       "      <td>...</td>\n",
       "      <td>0.523760</td>\n",
       "      <td>0.399579</td>\n",
       "      <td>0.088600</td>\n",
       "      <td>0.718606</td>\n",
       "      <td>-1.112030</td>\n",
       "      <td>0.083929</td>\n",
       "      <td>0.606544</td>\n",
       "      <td>-1.376793</td>\n",
       "      <td>1.302641</td>\n",
       "      <td>2.0</td>\n",
       "    </tr>\n",
       "    <tr>\n",
       "      <th>2</th>\n",
       "      <td>-0.876376</td>\n",
       "      <td>0.220453</td>\n",
       "      <td>3.114224</td>\n",
       "      <td>-1.640025</td>\n",
       "      <td>1.180348</td>\n",
       "      <td>0.220453</td>\n",
       "      <td>0.465102</td>\n",
       "      <td>0.222511</td>\n",
       "      <td>0.880455</td>\n",
       "      <td>2.922315</td>\n",
       "      <td>...</td>\n",
       "      <td>-0.370516</td>\n",
       "      <td>3.585262</td>\n",
       "      <td>-2.168162</td>\n",
       "      <td>2.693429</td>\n",
       "      <td>-0.966636</td>\n",
       "      <td>1.586302</td>\n",
       "      <td>-2.821546</td>\n",
       "      <td>0.482164</td>\n",
       "      <td>0.187404</td>\n",
       "      <td>0.0</td>\n",
       "    </tr>\n",
       "    <tr>\n",
       "      <th>3</th>\n",
       "      <td>-2.550342</td>\n",
       "      <td>-1.968144</td>\n",
       "      <td>0.077681</td>\n",
       "      <td>-1.887719</td>\n",
       "      <td>1.864445</td>\n",
       "      <td>-1.968144</td>\n",
       "      <td>-0.527958</td>\n",
       "      <td>-0.201467</td>\n",
       "      <td>-0.532649</td>\n",
       "      <td>2.287445</td>\n",
       "      <td>...</td>\n",
       "      <td>-0.041341</td>\n",
       "      <td>2.383582</td>\n",
       "      <td>-0.417253</td>\n",
       "      <td>1.305379</td>\n",
       "      <td>-0.435123</td>\n",
       "      <td>-0.468557</td>\n",
       "      <td>0.923290</td>\n",
       "      <td>3.880050</td>\n",
       "      <td>2.676798</td>\n",
       "      <td>1.0</td>\n",
       "    </tr>\n",
       "    <tr>\n",
       "      <th>4</th>\n",
       "      <td>-0.454974</td>\n",
       "      <td>1.293300</td>\n",
       "      <td>0.112201</td>\n",
       "      <td>-0.589989</td>\n",
       "      <td>-1.674321</td>\n",
       "      <td>1.293300</td>\n",
       "      <td>0.487302</td>\n",
       "      <td>1.776318</td>\n",
       "      <td>0.702520</td>\n",
       "      <td>-1.024127</td>\n",
       "      <td>...</td>\n",
       "      <td>-0.452869</td>\n",
       "      <td>-0.667306</td>\n",
       "      <td>0.345364</td>\n",
       "      <td>-3.920591</td>\n",
       "      <td>-0.438296</td>\n",
       "      <td>-1.690141</td>\n",
       "      <td>0.176906</td>\n",
       "      <td>1.920142</td>\n",
       "      <td>1.474634</td>\n",
       "      <td>0.0</td>\n",
       "    </tr>\n",
       "  </tbody>\n",
       "</table>\n",
       "<p>5 rows × 21 columns</p>\n",
       "</div>"
      ],
      "text/plain": [
       "       var0      var1      var2      var3      var4      var5      var6  \\\n",
       "0 -2.882513 -3.272465 -2.520732 -1.987174 -2.073689 -3.272465 -1.237969   \n",
       "1  0.775242 -1.015994  0.005137  0.057274  0.590205 -1.015994  1.350954   \n",
       "2 -0.876376  0.220453  3.114224 -1.640025  1.180348  0.220453  0.465102   \n",
       "3 -2.550342 -1.968144  0.077681 -1.887719  1.864445 -1.968144 -0.527958   \n",
       "4 -0.454974  1.293300  0.112201 -0.589989 -1.674321  1.293300  0.487302   \n",
       "\n",
       "       var7      var8      var9  ...     var11     var12     var13     var14  \\\n",
       "0  1.690547 -0.211314 -5.753190  ... -0.574979 -1.916275 -5.994075 -3.349615   \n",
       "1 -1.493037 -0.862391 -1.986047  ...  0.523760  0.399579  0.088600  0.718606   \n",
       "2  0.222511  0.880455  2.922315  ... -0.370516  3.585262 -2.168162  2.693429   \n",
       "3 -0.201467 -0.532649  2.287445  ... -0.041341  2.383582 -0.417253  1.305379   \n",
       "4  1.776318  0.702520 -1.024127  ... -0.452869 -0.667306  0.345364 -3.920591   \n",
       "\n",
       "      var15     var16     var17     var18     var19  target  \n",
       "0 -0.846193  2.491347  1.360958 -2.892522 -1.377561     0.0  \n",
       "1 -1.112030  0.083929  0.606544 -1.376793  1.302641     2.0  \n",
       "2 -0.966636  1.586302 -2.821546  0.482164  0.187404     0.0  \n",
       "3 -0.435123 -0.468557  0.923290  3.880050  2.676798     1.0  \n",
       "4 -0.438296 -1.690141  0.176906  1.920142  1.474634     0.0  \n",
       "\n",
       "[5 rows x 21 columns]"
      ]
     },
     "execution_count": 4,
     "metadata": {},
     "output_type": "execute_result"
    }
   ],
   "source": [
    "df.head()"
   ]
  },
  {
   "cell_type": "code",
   "execution_count": 5,
   "metadata": {
    "id": "dAzxLHD8AmHS",
    "outputId": "100a09f8-15f4-44b1-9cc8-85efc6eb64f4"
   },
   "outputs": [
    {
     "name": "stdout",
     "output_type": "stream",
     "text": [
      "<class 'pandas.core.frame.DataFrame'>\n",
      "RangeIndex: 1500 entries, 0 to 1499\n",
      "Data columns (total 21 columns):\n",
      " #   Column  Non-Null Count  Dtype  \n",
      "---  ------  --------------  -----  \n",
      " 0   var0    1500 non-null   float64\n",
      " 1   var1    1500 non-null   float64\n",
      " 2   var2    1500 non-null   float64\n",
      " 3   var3    1500 non-null   float64\n",
      " 4   var4    1500 non-null   float64\n",
      " 5   var5    1500 non-null   float64\n",
      " 6   var6    1500 non-null   float64\n",
      " 7   var7    1500 non-null   float64\n",
      " 8   var8    1500 non-null   float64\n",
      " 9   var9    1500 non-null   float64\n",
      " 10  var10   1500 non-null   float64\n",
      " 11  var11   1500 non-null   float64\n",
      " 12  var12   1500 non-null   float64\n",
      " 13  var13   1500 non-null   float64\n",
      " 14  var14   1500 non-null   float64\n",
      " 15  var15   1500 non-null   float64\n",
      " 16  var16   1500 non-null   float64\n",
      " 17  var17   1500 non-null   float64\n",
      " 18  var18   1500 non-null   float64\n",
      " 19  var19   1500 non-null   float64\n",
      " 20  target  1500 non-null   float64\n",
      "dtypes: float64(21)\n",
      "memory usage: 246.2 KB\n"
     ]
    }
   ],
   "source": [
    "df.info()"
   ]
  },
  {
   "cell_type": "code",
   "execution_count": 6,
   "metadata": {
    "id": "3YXxSdYzAmHS",
    "outputId": "f50ce44d-04d2-4382-f53a-4aaaeda6e2f1"
   },
   "outputs": [
    {
     "name": "stdout",
     "output_type": "stream",
     "text": [
      "Training samples: 1,200\n",
      "Test samples: 300\n",
      "\n",
      "Features:\n",
      "var0\tvar1\tvar2\tvar3\tvar4\tvar5\tvar6\tvar7\tvar8\tvar9\tvar10\tvar11\tvar12\tvar13\tvar14\tvar15\tvar16\tvar17\tvar18\tvar19\n"
     ]
    }
   ],
   "source": [
    "from sklearn.model_selection import train_test_split\n",
    "\n",
    "X = df[[x for x in df.columns if x.startswith('var')]]\n",
    "y = df['target']\n",
    "\n",
    "X_train, X_test, y_training, y_test = train_test_split(X, y, test_size=0.2, random_state=123)\n",
    "\n",
    "print(f'Training samples: {X_train.shape[0]:,}')\n",
    "print(f'Test samples: {X_test.shape[0]:,}')\n",
    "\n",
    "print('\\nFeatures:')\n",
    "print(*X_train, sep='\\t')"
   ]
  },
  {
   "cell_type": "markdown",
   "metadata": {
    "id": "4BPXTsijAmHT"
   },
   "source": [
    "### Data Description\n",
    "- `var1 - var19`: a feature for the data.  \n",
    "- `target`: variable we wish to be able to predict, which is 1 of 3 classes."
   ]
  },
  {
   "cell_type": "markdown",
   "metadata": {
    "id": "BZ9QpWgKAmHT"
   },
   "source": [
    "# Question 1\n",
    "- Use principle components analysis to determine the number of components to reduce the data to by evaluating the explained variance ratio (use `X_train`).  \n",
    "- Remember to scale the data first.  \n",
    "- What number of components would you recommend based on your analysis?  \n",
    "- Explain your results using markdown cells."
   ]
  },
  {
   "cell_type": "code",
   "execution_count": 9,
   "metadata": {
    "id": "z4x6XvYgAmHT"
   },
   "outputs": [
    {
     "data": {
      "image/png": "[encoded data removed]",
      "text/plain": [
       "<Figure size 1500x500 with 2 Axes>"
      ]
     },
     "metadata": {},
     "output_type": "display_data"
    },
    {
     "name": "stdout",
     "output_type": "stream",
     "text": [
      "\n",
      "Explained variance ratio for each component:\n",
      "PC1: 0.1782 (0.1782 cumulative)\n",
      "PC2: 0.1314 (0.3097 cumulative)\n",
      "PC3: 0.1034 (0.4131 cumulative)\n",
      "PC4: 0.0893 (0.5024 cumulative)\n",
      "PC5: 0.0700 (0.5724 cumulative)\n",
      "PC6: 0.0626 (0.6350 cumulative)\n",
      "PC7: 0.0553 (0.6904 cumulative)\n",
      "PC8: 0.0516 (0.7420 cumulative)\n",
      "PC9: 0.0499 (0.7919 cumulative)\n",
      "PC10: 0.0487 (0.8406 cumulative)\n",
      "PC11: 0.0468 (0.8873 cumulative)\n",
      "PC12: 0.0443 (0.9316 cumulative)\n",
      "PC13: 0.0417 (0.9733 cumulative)\n",
      "PC14: 0.0267 (1.0000 cumulative)\n",
      "PC15: 0.0000 (1.0000 cumulative)\n",
      "PC16: 0.0000 (1.0000 cumulative)\n",
      "PC17: 0.0000 (1.0000 cumulative)\n",
      "PC18: 0.0000 (1.0000 cumulative)\n",
      "PC19: 0.0000 (1.0000 cumulative)\n",
      "PC20: 0.0000 (1.0000 cumulative)\n",
      "\n",
      "Number of components needed for different variance thresholds:\n",
      "70.0% variance threshold: 8 components\n",
      "80.0% variance threshold: 10 components\n",
      "90.0% variance threshold: 12 components\n",
      "95.0% variance threshold: 13 components\n"
     ]
    }
   ],
   "source": [
    "# insert code here\n",
    "# scale the features \n",
    "scaler = StandardScaler()\n",
    "X_train_scaled = scaler.fit_transform(X_train)\n",
    "X_test_scaled = scaler.transform(X_test)\n",
    "\n",
    "# apply PCA\n",
    "pca = PCA()\n",
    "pca_train = pca.fit_transform(X_train_scaled)\n",
    "\n",
    "# calculate explained variance ratio\n",
    "explained_variance_ratio = pca.explained_variance_ratio_\n",
    "cumulative_variance = np.cumsum(explained_variance_ratio)\n",
    "\n",
    "# plot explained variance ratio and cumulative explained variance ratio\n",
    "fig, axes = plt.subplots(nrows=1, ncols=2, figsize=(15, 5))\n",
    "\n",
    "# plot explained variance ratio\n",
    "axes[0].plot(range(1, len(explained_variance_ratio) + 1), explained_variance_ratio, 'bo-')\n",
    "axes[0].set_xlabel('Principal component')\n",
    "axes[0].set_ylabel('Explained variance ratio')\n",
    "axes[0].set_title('Scree plot')\n",
    "axes[0].grid(True)\n",
    "\n",
    "# plot cumulative explained variance ratio\n",
    "axes[1].plot(range(1, len(cumulative_variance) + 1), cumulative_variance, 'ro-')\n",
    "axes[1].axhline(y=0.8, color='k', linestyle='--', label='80% threshold')\n",
    "axes[1].axhline(y=0.9, color='g', linestyle='--', label='90% threshold')\n",
    "axes[1].set_xlabel('Number of components')\n",
    "axes[1].set_ylabel('Cumulative explained variance ratio')\n",
    "axes[1].set_title('Cumulative explained variance ratio vs. Number of components')\n",
    "axes[1].grid(True)\n",
    "axes[1].legend()\n",
    "\n",
    "plt.tight_layout()\n",
    "plt.show()\n",
    "\n",
    "# print the explained variance ratio for each component\n",
    "print(\"\\nExplained variance ratio for each component:\")\n",
    "for i, var in enumerate(explained_variance_ratio, 1):\n",
    "    print(f\"PC{i}: {var:.4f} ({cumulative_variance[i-1]:.4f} cumulative)\")\n",
    "\n",
    "# print number of components needed for different thresholds\n",
    "print(\"\\nNumber of components needed for different variance thresholds:\")\n",
    "thresholds = [0.7, 0.8, 0.9, 0.95]\n",
    "for threshold in thresholds:\n",
    "    n_components = np.argmax(cumulative_variance >= threshold) + 1\n",
    "    print(f\"{threshold*100}% variance threshold: {n_components} components\")"
   ]
  },
  {
   "cell_type": "markdown",
   "metadata": {
    "id": "G3L2hy0bAmHU"
   },
   "source": [
    "> Based on the PCA analysis, reducing the data from 20 features to 10 principal components would retain approximately 84% of the total variance, which is a good balance between dimensionality reduction and information preservation. The plot shows diminishing returns after 10 components, supporting this choice."
   ]
  },
  {
   "cell_type": "markdown",
   "metadata": {
    "id": "LF09oSk6AmHU"
   },
   "source": [
    "<Insert comments>"
   ]
  },
  {
   "cell_type": "markdown",
   "metadata": {
    "id": "jeYyTNMVAmHU"
   },
   "source": [
    "# Question 2\n",
    "- Evaluate the target variable in the `df` object.  \n",
    "- Which metric would you use in evaluating a predictive model. Explain your choice in the markdown cell."
   ]
  },
  {
   "cell_type": "code",
   "execution_count": 13,
   "metadata": {
    "id": "5mYaUQ-mAmHU"
   },
   "outputs": [
    {
     "data": {
      "image/png": "[encoded data removed]",
      "text/plain": [
       "<Figure size 1000x500 with 2 Axes>"
      ]
     },
     "metadata": {},
     "output_type": "display_data"
    },
    {
     "name": "stdout",
     "output_type": "stream",
     "text": [
      "\n",
      "Target variable summary:\n",
      "--------------------------------------------------\n",
      "\n",
      "Value counts:\n",
      "target\n",
      "0.0    744\n",
      "2.0    380\n",
      "1.0    376\n",
      "Name: count, dtype: int64\n",
      "\n",
      "Value proportions:\n",
      "target\n",
      "0.0    0.496000\n",
      "2.0    0.253333\n",
      "1.0    0.250667\n",
      "Name: proportion, dtype: float64\n"
     ]
    }
   ],
   "source": [
    "# Insert code here\n",
    "# analyze target variable distribution\n",
    "plt.figure(figsize=(10, 5))\n",
    "\n",
    "# plot distribution\n",
    "plt.subplot(1, 2, 1)\n",
    "df['target'].value_counts().plot(kind='bar')\n",
    "plt.title('Target variable distribution')\n",
    "plt.xlabel('Class')\n",
    "plt.ylabel('Count')\n",
    "\n",
    "# add percentage labels\n",
    "total = len(df)\n",
    "for i, v in enumerate(df['target'].value_counts()):\n",
    "    plt.text(i, v, f'{(v/total)*100:.1f}%', ha='center', va='bottom')\n",
    "\n",
    "# plot pie chart\n",
    "plt.subplot(1, 2, 2)\n",
    "df['target'].value_counts().plot(kind='pie', autopct='%1.1f%%')\n",
    "plt.title('Target class distribution (%)')\n",
    "\n",
    "plt.tight_layout()\n",
    "plt.show()\n",
    "\n",
    "# print summary statistics\n",
    "print(\"\\nTarget variable summary:\")\n",
    "print(\"-\" * 50)\n",
    "print(\"\\nValue counts:\")\n",
    "print(df['target'].value_counts())\n",
    "print(\"\\nValue proportions:\")\n",
    "print(df['target'].value_counts(normalize=True))"
   ]
  },
  {
   "cell_type": "markdown",
   "metadata": {
    "id": "BwvxCYvZAmHU"
   },
   "source": [
    "> Looking at the target variable distribution:\n",
    "It's a 3-class classification problem with imbalanced classes:\n",
    ">- Class 0: 744 samples (49.6%)\n",
    ">- Class 1: 376 samples (25.1%)\n",
    ">- Class 2: 380 samples (25.3%)\n",
    "\n",
    "> Given this imbalanced distribution, macro-averaged F1-score would be the most appropriate evaluation metric as it treats all classes equally regardless of their size, unlike accuracy which could be misleading due to the class imbalance."
   ]
  },
  {
   "cell_type": "markdown",
   "metadata": {
    "id": "INqvbbRjAmHV"
   },
   "source": [
    "# Question 3\n",
    "- Without using PCA, create a logistic regression model using practices discussed in class.  \n",
    "- Which model would you choose? Explain your results in the markdown cells.    \n",
    "- What is the accuracy, precision, and recall for the test data?  "
   ]
  },
  {
   "cell_type": "code",
   "execution_count": 16,
   "metadata": {
    "id": "CMWfEPswAmHV"
   },
   "outputs": [
    {
     "name": "stdout",
     "output_type": "stream",
     "text": [
      "Best parameters: {'C': 10, 'max_iter': 1000, 'multi_class': 'multinomial', 'solver': 'lbfgs'}\n",
      "Best cross-validation score: 0.7040434121074396\n",
      "\n",
      "Classification report:\n",
      "              precision    recall  f1-score   support\n",
      "\n",
      "         0.0       0.75      0.76      0.76       153\n",
      "         1.0       0.68      0.59      0.63        74\n",
      "         2.0       0.62      0.68      0.65        73\n",
      "\n",
      "    accuracy                           0.70       300\n",
      "   macro avg       0.69      0.68      0.68       300\n",
      "weighted avg       0.70      0.70      0.70       300\n",
      "\n",
      "\n",
      "Confusion matrix:\n",
      "[[117  14  22]\n",
      " [ 22  44   8]\n",
      " [ 16   7  50]]\n"
     ]
    }
   ],
   "source": [
    "# Insert code here\n",
    "# define parameter grid for GridSearchCV\n",
    "param_grid = {\n",
    "    'C': [0.001, 0.01, 0.1, 1, 10, 100],\n",
    "    'max_iter': [1000],\n",
    "    'multi_class': ['ovr', 'multinomial'],\n",
    "    'solver': ['lbfgs']\n",
    "}\n",
    "\n",
    "# perform GridSearchCV\n",
    "grid_search = GridSearchCV(\n",
    "    LogisticRegression(),\n",
    "    param_grid,\n",
    "    cv=5,\n",
    "    scoring='f1_macro',\n",
    "    n_jobs=-1\n",
    ")\n",
    "grid_search.fit(X_train_scaled, y_training)\n",
    "\n",
    "# print best parameters and score\n",
    "print(\"Best parameters:\", grid_search.best_params_)\n",
    "print(\"Best cross-validation score:\", grid_search.best_score_)\n",
    "\n",
    "# get best model\n",
    "best_model = grid_search.best_estimator_\n",
    "\n",
    "# make predictions on test set\n",
    "y_pred = best_model.predict(X_test_scaled)\n",
    "\n",
    "# print classification report\n",
    "print(\"\\nClassification report:\")\n",
    "print(classification_report(y_test, y_pred))\n",
    "\n",
    "# create and display confusion matrix\n",
    "conf_matrix = confusion_matrix(y_test, y_pred)\n",
    "print(\"\\nConfusion matrix:\")\n",
    "print(conf_matrix)"
   ]
  },
  {
   "cell_type": "markdown",
   "metadata": {
    "id": "wgbSa58AAmHV"
   },
   "source": [
    "> Describe results here\n",
    ">- This suggests a decent but not exceptional classifier, with better performance on class 0 compared to classes 1 and 2."
   ]
  },
  {
   "cell_type": "markdown",
   "metadata": {
    "id": "xmrcU85RAmHV"
   },
   "source": [
    "# Question 4\n",
    "- Use PCA within a pipeline to create a logistic regression model using best practices from class.  \n",
    "- Which model performs the best on the training data? Explain your results in markdown cells.  \n",
    "- What is the accuracy, precision, and recall for the test data?\n",
    "- Does this perform better than the original logistic regression model?"
   ]
  },
  {
   "cell_type": "code",
   "execution_count": 19,
   "metadata": {
    "id": "ubAlEc35AmHV"
   },
   "outputs": [
    {
     "name": "stdout",
     "output_type": "stream",
     "text": [
      "Best parameters: {'logistic__C': 0.1, 'logistic__max_iter': 1000, 'logistic__multi_class': 'multinomial', 'logistic__solver': 'lbfgs', 'pca__n_components': 12}\n",
      "Best cross-validation score: 0.6833085840992426\n",
      "\n",
      "Classification report:\n",
      "              precision    recall  f1-score   support\n",
      "\n",
      "         0.0       0.73      0.78      0.75       153\n",
      "         1.0       0.64      0.53      0.58        74\n",
      "         2.0       0.64      0.67      0.66        73\n",
      "\n",
      "    accuracy                           0.69       300\n",
      "   macro avg       0.67      0.66      0.66       300\n",
      "weighted avg       0.69      0.69      0.69       300\n",
      "\n",
      "\n",
      "Confusion matrix:\n",
      "[[119  15  19]\n",
      " [ 27  39   8]\n",
      " [ 17   7  49]]\n",
      "\n",
      "Best number of PCA components: 12\n",
      "Explained variance ratio sum with best n_components: 0.9316106380930997\n"
     ]
    }
   ],
   "source": [
    "# Insert code\n",
    "# create pipeline\n",
    "pipeline = Pipeline([\n",
    "    ('scaler', StandardScaler()),\n",
    "    ('pca', PCA()),\n",
    "    ('logistic', LogisticRegression())\n",
    "])\n",
    "\n",
    "# define parameter grid\n",
    "param_grid = {\n",
    "    'pca__n_components': [8, 10, 12],  # Based on PCA analysis\n",
    "    'logistic__C': [0.001, 0.01, 0.1, 1, 10, 100],\n",
    "    'logistic__max_iter': [1000],\n",
    "    'logistic__multi_class': ['ovr', 'multinomial'],\n",
    "    'logistic__solver': ['lbfgs']\n",
    "}\n",
    "\n",
    "# perform GridSearchCV\n",
    "grid_search = GridSearchCV(\n",
    "    pipeline,\n",
    "    param_grid,\n",
    "    cv=5,\n",
    "    scoring='f1_macro',\n",
    "    n_jobs=-1\n",
    ")\n",
    "grid_search.fit(X_train, y_training)\n",
    "\n",
    "# get best model and make predictions\n",
    "best_model = grid_search.best_estimator_\n",
    "y_pred = best_model.predict(X_test)\n",
    "\n",
    "# print results\n",
    "print(\"Best parameters:\", grid_search.best_params_)\n",
    "print(\"Best cross-validation score:\", grid_search.best_score_)\n",
    "\n",
    "print(\"\\nClassification report:\")\n",
    "print(classification_report(y_test, y_pred))\n",
    "\n",
    "print(\"\\nConfusion matrix:\")\n",
    "print(confusion_matrix(y_test, y_pred))\n",
    "\n",
    "# compare with previous model scores\n",
    "print(\"\\nBest number of PCA components:\", best_model.named_steps['pca'].n_components_)\n",
    "print(\"Explained variance ratio sum with best n_components:\", \n",
    "      sum(best_model.named_steps['pca'].explained_variance_ratio_))"
   ]
  },
  {
   "cell_type": "markdown",
   "metadata": {
    "id": "V8xBVGg2AmHW"
   },
   "source": [
    "> Describe your results here\n",
    ">- The PCA preprocessing maintained most of the data variance (93.16%) while reducing dimensionality to 12 components, but the overall model performance is slightly lower than the previous model without PCA (68.3% vs 70.4%)."
   ]
  },
  {
   "cell_type": "markdown",
   "metadata": {
    "id": "P_h5ycchAmHW"
   },
   "source": [
    "# Question 5"
   ]
  },
  {
   "cell_type": "markdown",
   "metadata": {
    "id": "qjN41ERqAmHW"
   },
   "source": [
    "- Without using PCA, create a decision tree model using best practices discussed in class.  \n",
    "- Which model performs the best on the training data? Explain your results in the markdown cells.  \n",
    "- What is the accuracy, precision, and recall for the test data?  \n",
    "- Does this perform better than either of the logistic regression models?"
   ]
  },
  {
   "cell_type": "code",
   "execution_count": 23,
   "metadata": {
    "id": "pQm1mg0SAmHW"
   },
   "outputs": [
    {
     "name": "stdout",
     "output_type": "stream",
     "text": [
      "Best parameters: {'dt__criterion': 'gini', 'dt__max_depth': 10, 'dt__min_samples_leaf': 1, 'dt__min_samples_split': 2}\n",
      "Best cross-validation score: 0.741575652314666\n",
      "\n",
      "Classification report:\n",
      "              precision    recall  f1-score   support\n",
      "\n",
      "         0.0       0.76      0.76      0.76       153\n",
      "         1.0       0.59      0.64      0.61        74\n",
      "         2.0       0.70      0.64      0.67        73\n",
      "\n",
      "    accuracy                           0.70       300\n",
      "   macro avg       0.69      0.68      0.68       300\n",
      "weighted avg       0.70      0.70      0.70       300\n",
      "\n",
      "\n",
      "Confusion matrix:\n",
      "[[117  22  14]\n",
      " [ 21  47   6]\n",
      " [ 16  10  47]]\n",
      "\n",
      "Top 5 most important features:\n",
      "   feature  importance\n",
      "4     var4    0.196541\n",
      "12   var12    0.169209\n",
      "16   var16    0.083944\n",
      "14   var14    0.074056\n",
      "19   var19    0.062874\n"
     ]
    }
   ],
   "source": [
    "# Insert code here\n",
    "# create pipeline\n",
    "pipeline = Pipeline([\n",
    "    ('scaler', StandardScaler()),\n",
    "    ('dt', DecisionTreeClassifier(random_state=42))\n",
    "])\n",
    "\n",
    "# define parameter grid\n",
    "param_grid = {\n",
    "    'dt__max_depth': [3, 5, 7, 10, None],\n",
    "    'dt__min_samples_split': [2, 5, 10],\n",
    "    'dt__min_samples_leaf': [1, 2, 4],\n",
    "    'dt__criterion': ['gini', 'entropy']\n",
    "}\n",
    "\n",
    "# perform GridSearchCV\n",
    "grid_search = GridSearchCV(\n",
    "    pipeline,\n",
    "    param_grid,\n",
    "    cv=5,\n",
    "    scoring='f1_macro',\n",
    "    n_jobs=-1\n",
    ")\n",
    "grid_search.fit(X_train, y_training)\n",
    "\n",
    "# get best model and make predictions\n",
    "best_model = grid_search.best_estimator_\n",
    "y_pred = best_model.predict(X_test)\n",
    "\n",
    "# print results\n",
    "print(\"Best parameters:\", grid_search.best_params_)\n",
    "print(\"Best cross-validation score:\", grid_search.best_score_)\n",
    "\n",
    "print(\"\\nClassification report:\")\n",
    "print(classification_report(y_test, y_pred))\n",
    "\n",
    "print(\"\\nConfusion matrix:\")\n",
    "print(confusion_matrix(y_test, y_pred))\n",
    "\n",
    "# feature importance\n",
    "feature_importance = best_model.named_steps['dt'].feature_importances_\n",
    "features = X_train.columns\n",
    "importance_df = pd.DataFrame({'feature': features, 'importance': feature_importance})\n",
    "importance_df = importance_df.sort_values('importance', ascending=False)\n",
    "\n",
    "print(\"\\nTop 5 most important features:\")\n",
    "print(importance_df.head())"
   ]
  },
  {
   "cell_type": "markdown",
   "metadata": {
    "id": "kS8cQZ07AmHW"
   },
   "source": [
    "> Describe your results here\n",
    ">- This Decision Tree model achieved the highest cross-validation score (74.2%) compared to the previous Logistic Regression models (70.4% and 68.3%), suggesting it might be the best choice for this particular classification task."
   ]
  },
  {
   "cell_type": "markdown",
   "metadata": {
    "id": "RKhiZ8hWAmHW"
   },
   "source": [
    "# Question 6\n",
    "- Repeat `Question 5` but use PCA.  \n",
    "- Does this perform better than the original Decision Tree or the logistic regression models?"
   ]
  },
  {
   "cell_type": "code",
   "execution_count": 26,
   "metadata": {
    "id": "CAlZxhjLAmHW"
   },
   "outputs": [
    {
     "name": "stdout",
     "output_type": "stream",
     "text": [
      "Best parameters: {'dt__criterion': 'gini', 'dt__max_depth': 10, 'dt__min_samples_leaf': 2, 'dt__min_samples_split': 10, 'pca__n_components': 10}\n",
      "Best cross-validation score: 0.6684669025997988\n",
      "\n",
      "Classification report:\n",
      "              precision    recall  f1-score   support\n",
      "\n",
      "         0.0       0.71      0.76      0.74       153\n",
      "         1.0       0.62      0.53      0.57        74\n",
      "         2.0       0.60      0.60      0.60        73\n",
      "\n",
      "    accuracy                           0.67       300\n",
      "   macro avg       0.65      0.63      0.64       300\n",
      "weighted avg       0.66      0.67      0.66       300\n",
      "\n",
      "\n",
      "Confusion matrix:\n",
      "[[117  15  21]\n",
      " [ 27  39   8]\n",
      " [ 20   9  44]]\n",
      "\n",
      "Number of PCA components used: 10\n",
      "Total explained variance ratio: 0.8405708685545746\n"
     ]
    }
   ],
   "source": [
    "# Insert code here\n",
    "# create pipeline with PCA\n",
    "pipeline = Pipeline([\n",
    "    ('scaler', StandardScaler()),\n",
    "    ('pca', PCA()),\n",
    "    ('dt', DecisionTreeClassifier(random_state=42))\n",
    "])\n",
    "\n",
    "# define parameter grid\n",
    "param_grid = {\n",
    "    'pca__n_components': [8, 10, 12],  # Based on previous PCA analysis\n",
    "    'dt__max_depth': [3, 5, 7, 10, None],\n",
    "    'dt__min_samples_split': [2, 5, 10],\n",
    "    'dt__min_samples_leaf': [1, 2, 4],\n",
    "    'dt__criterion': ['gini', 'entropy']\n",
    "}\n",
    "\n",
    "# perform GridSearchCV\n",
    "grid_search = GridSearchCV(\n",
    "    pipeline,\n",
    "    param_grid,\n",
    "    cv=5,\n",
    "    scoring='f1_macro',\n",
    "    n_jobs=-1\n",
    ")\n",
    "grid_search.fit(X_train, y_training)\n",
    "\n",
    "# get best model and make predictions\n",
    "best_model = grid_search.best_estimator_\n",
    "y_pred = best_model.predict(X_test)\n",
    "\n",
    "# print results\n",
    "print(\"Best parameters:\", grid_search.best_params_)\n",
    "print(\"Best cross-validation score:\", grid_search.best_score_)\n",
    "\n",
    "print(\"\\nClassification report:\")\n",
    "print(classification_report(y_test, y_pred))\n",
    "\n",
    "print(\"\\nConfusion matrix:\")\n",
    "print(confusion_matrix(y_test, y_pred))\n",
    "\n",
    "# get PCA explained variance ratio\n",
    "pca = best_model.named_steps['pca']\n",
    "print(\"\\nNumber of PCA components used:\", pca.n_components_)\n",
    "print(\"Total explained variance ratio:\", sum(pca.explained_variance_ratio_))"
   ]
  },
  {
   "cell_type": "markdown",
   "metadata": {
    "id": "HRl_5xmhAmHX"
   },
   "source": [
    "> Describe results here\n",
    ">- Adding PCA and increasing min_samples parameters resulted in a less performant model compared to the previous Decision Tree (66.8% vs 74.2% cross-validation score), suggesting that the dimensionality reduction and increased regularization might have removed some useful information for classification."
   ]
  },
  {
   "cell_type": "code",
   "execution_count": null,
   "metadata": {
    "id": "jz0po1sIAmHX"
   },
   "outputs": [],
   "source": []
  }
 ],
 "metadata": {
  "colab": {
   "provenance": []
  },
  "kernelspec": {
   "display_name": "Python 3 (ipykernel)",
   "language": "python",
   "name": "python3"
  },
  "language_info": {
   "codemirror_mode": {
    "name": "ipython",
    "version": 3
   },
   "file_extension": ".py",
   "mimetype": "text/x-python",
   "name": "python",
   "nbconvert_exporter": "python",
   "pygments_lexer": "ipython3",
   "version": "3.12.4"
  },
  "toc": {
   "base_numbering": 1,
   "nav_menu": {},
   "number_sections": true,
   "sideBar": true,
   "skip_h1_title": false,
   "title_cell": "Table of Contents",
   "title_sidebar": "Contents",
   "toc_cell": false,
   "toc_position": {},
   "toc_section_display": true,
   "toc_window_display": false
  }
 },
 "nbformat": 4,
 "nbformat_minor": 4
}
