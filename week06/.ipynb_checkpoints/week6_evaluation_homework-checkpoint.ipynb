{
 "cells": [
  {
   "cell_type": "markdown",
   "metadata": {
    "id": "whmH5eZIYJzb"
   },
   "source": [
    "# Week6 - Classifier Evaluation Assignment\n",
    "\n",
    "- Complete this Jupyter Notebook.  \n",
    "- Execute the initial cells and answer the numbered questions.  \n",
    "- Don't import other libraries."
   ]
  },
  {
   "cell_type": "code",
   "execution_count": 2,
   "metadata": {
    "id": "d5_LlJPzYJze",
    "outputId": "cef8617b-420a-4137-a2d1-4b0de316ee60"
   },
   "outputs": [
    {
     "data": {
      "text/html": [
       "<div>\n",
       "<style scoped>\n",
       "    .dataframe tbody tr th:only-of-type {\n",
       "        vertical-align: middle;\n",
       "    }\n",
       "\n",
       "    .dataframe tbody tr th {\n",
       "        vertical-align: top;\n",
       "    }\n",
       "\n",
       "    .dataframe thead th {\n",
       "        text-align: right;\n",
       "    }\n",
       "</style>\n",
       "<table border=\"1\" class=\"dataframe\">\n",
       "  <thead>\n",
       "    <tr style=\"text-align: right;\">\n",
       "      <th></th>\n",
       "      <th>actual</th>\n",
       "      <th>prob</th>\n",
       "    </tr>\n",
       "  </thead>\n",
       "  <tbody>\n",
       "    <tr>\n",
       "      <th>0</th>\n",
       "      <td>0.0</td>\n",
       "      <td>0.380052</td>\n",
       "    </tr>\n",
       "    <tr>\n",
       "      <th>1</th>\n",
       "      <td>1.0</td>\n",
       "      <td>0.827923</td>\n",
       "    </tr>\n",
       "    <tr>\n",
       "      <th>2</th>\n",
       "      <td>1.0</td>\n",
       "      <td>0.929093</td>\n",
       "    </tr>\n",
       "    <tr>\n",
       "      <th>3</th>\n",
       "      <td>1.0</td>\n",
       "      <td>0.472508</td>\n",
       "    </tr>\n",
       "    <tr>\n",
       "      <th>4</th>\n",
       "      <td>1.0</td>\n",
       "      <td>0.906988</td>\n",
       "    </tr>\n",
       "  </tbody>\n",
       "</table>\n",
       "</div>"
      ],
      "text/plain": [
       "   actual      prob\n",
       "0     0.0  0.380052\n",
       "1     1.0  0.827923\n",
       "2     1.0  0.929093\n",
       "3     1.0  0.472508\n",
       "4     1.0  0.906988"
      ]
     },
     "execution_count": 2,
     "metadata": {},
     "output_type": "execute_result"
    }
   ],
   "source": [
    "import pandas as pd\n",
    "import numpy as np\n",
    "import matplotlib.pyplot as plt\n",
    "%matplotlib inline\n",
    "\n",
    "results = pd.read_csv('https://raw.githubusercontent.com/msaricaumbc/DS_data/master/ds602/lab-evaluation-data.csv')\n",
    "results.head()"
   ]
  },
  {
   "cell_type": "markdown",
   "metadata": {
    "id": "NORHNGo_YJzg"
   },
   "source": [
    "## Data Definitions\n",
    "- `actual`: Whether the event was true or not. A value of 1.0 is True and 0.0 is False.  \n",
    "- `prob`: The probability that the event was True. This is estimated from a classification model."
   ]
  },
  {
   "cell_type": "markdown",
   "metadata": {
    "id": "fu6oSrgqYJzg"
   },
   "source": [
    "## Question 1\n",
    "- Determine the distribution of the actual event.\n",
    "- Would you be concerned about bias due to imbalance?"
   ]
  },
  {
   "cell_type": "code",
   "execution_count": 5,
   "metadata": {
    "id": "riFQMEc4YJzh"
   },
   "outputs": [
    {
     "name": "stdout",
     "output_type": "stream",
     "text": [
      "Distribution of actual events:\n",
      "actual\n",
      "1.0    0.6\n",
      "0.0    0.4\n",
      "Name: proportion, dtype: float64\n",
      "\n",
      "Imbalance ratio: 1.50\n"
     ]
    }
   ],
   "source": [
    "# insert code here\n",
    "# distribution of actual events\n",
    "event_distribution = results['actual'].value_counts(normalize=True)\n",
    "print(\"Distribution of actual events:\")\n",
    "print(event_distribution)\n",
    "\n",
    "# check for imbalance\n",
    "imbalance_ratio = event_distribution.max() / event_distribution.min()\n",
    "print(f\"\\nImbalance ratio: {imbalance_ratio:.2f}\")"
   ]
  },
  {
   "cell_type": "markdown",
   "metadata": {},
   "source": [
    "> The imbalance is not an issue in this case because it will be quite similar to 1:1 ratio."
   ]
  },
  {
   "cell_type": "markdown",
   "metadata": {
    "id": "WIRGC5qEYJzh"
   },
   "source": [
    "Insert comments here"
   ]
  },
  {
   "cell_type": "markdown",
   "metadata": {
    "id": "o3D4F92MYJzh"
   },
   "source": [
    "## Question 2\n",
    "- Create a histogram that shows the distribution of the probabilities for the True and False classes.  \n",
    "- Describe what you observe."
   ]
  },
  {
   "cell_type": "code",
   "execution_count": 9,
   "metadata": {
    "id": "Fj-ujJKQYJzh"
   },
   "outputs": [
    {
     "data": {
      "image/png": "[encoded data removed]",
      "text/plain": [
       "<Figure size 1000x600 with 1 Axes>"
      ]
     },
     "metadata": {},
     "output_type": "display_data"
    }
   ],
   "source": [
    "# histogram plot to show the distribution of probabilities of trues and falses\n",
    "plt.figure(figsize=(10, 6))\n",
    "plt.hist([results[results['actual'] == 0]['prob'], \n",
    "          results[results['actual'] == 1]['prob']], \n",
    "         label=['False', 'True'], bins=20)\n",
    "\n",
    "# labeling the plot to make it readable\n",
    "plt.xlabel('Probability')\n",
    "plt.ylabel('Frequency')\n",
    "plt.title('Distribution of Probabilities for True and False Classes')\n",
    "# show the classes\n",
    "plt.legend()\n",
    "# display the plot\n",
    "plt.show()"
   ]
  },
  {
   "cell_type": "markdown",
   "metadata": {},
   "source": [
    "> The graph shows that predictions for the False class (blue bars) tend to have lower probabilities, while predictions for the True class (orange bars) are more concentrated around higher probabilities, indicating the model is fairly confident in separating the two classes."
   ]
  },
  {
   "cell_type": "markdown",
   "metadata": {
    "id": "OqP44zhSYJzh"
   },
   "source": [
    "Insert comments here"
   ]
  },
  {
   "cell_type": "markdown",
   "metadata": {
    "id": "JmHDAV1HYJzi"
   },
   "source": [
    "## Question 3\n",
    "- Create a simple confusion matrix. Use `0.5` as the threshold for whether an observation should be considered True or False.  \n",
    "- Comment on what you observe."
   ]
  },
  {
   "cell_type": "code",
   "execution_count": 13,
   "metadata": {
    "id": "VbteBmVnYJzi"
   },
   "outputs": [
    {
     "name": "stdout",
     "output_type": "stream",
     "text": [
      "Confusion Matrix:\n",
      "Predicted     0     1\n",
      "Actual               \n",
      "0.0        1790   210\n",
      "1.0         377  2623\n"
     ]
    }
   ],
   "source": [
    "# insert code here\n",
    "# specify the threshold\n",
    "threshold = 0.5\n",
    "predicted = (results['prob'] > threshold).astype(int)\n",
    "# create the confusion matrix\n",
    "conf_matrix = pd.crosstab(results['actual'], predicted, rownames=['Actual'], colnames=['Predicted'])\n",
    "print(\"Confusion Matrix:\")\n",
    "print(conf_matrix)"
   ]
  },
  {
   "cell_type": "markdown",
   "metadata": {},
   "source": [
    "> The confusion matrix shows that the model correctly predicted 1790 true negatives (TN) and 2623 true positives (TP), while it made 210 false positive (FP) and 377 false negative (FN) errors, indicating that it tends to slightly miss some positive cases."
   ]
  },
  {
   "cell_type": "markdown",
   "metadata": {
    "id": "4YB5B0wCYJzi"
   },
   "source": [
    "Insert comments here"
   ]
  },
  {
   "cell_type": "markdown",
   "metadata": {
    "id": "RCpj2_NkYJzi"
   },
   "source": [
    "## Question 4\n",
    "- Calculate the accuracy, precision, and recall `without` using any pre-built functions.\n",
    "- Which measure would you use if this was your model and why?"
   ]
  },
  {
   "cell_type": "code",
   "execution_count": 17,
   "metadata": {
    "id": "98f28u29YJzi"
   },
   "outputs": [
    {
     "name": "stdout",
     "output_type": "stream",
     "text": [
      "Accuracy: 0.8826\n",
      "Precision: 0.9259\n",
      "Recall: 0.8743\n"
     ]
    }
   ],
   "source": [
    "# insert code here\n",
    "# calculating the matrices trues positive, true negative, false positve and false negative\n",
    "TP = conf_matrix.loc[1, 1]\n",
    "TN = conf_matrix.loc[0, 0]\n",
    "FP = conf_matrix.loc[0, 1]\n",
    "FN = conf_matrix.loc[1, 0]\n",
    "\n",
    "# calculation accuracy, precision and recall\n",
    "accuracy = (TP + TN) / (TP + TN + FP + FN)\n",
    "precision = TP / (TP + FP)\n",
    "recall = TP / (TP + FN)\n",
    "\n",
    "print(f\"Accuracy: {accuracy:.4f}\")\n",
    "print(f\"Precision: {precision:.4f}\")\n",
    "print(f\"Recall: {recall:.4f}\")"
   ]
  },
  {
   "cell_type": "markdown",
   "metadata": {},
   "source": [
    ">The model is 88.26% accurate, meaning it correctly predicted most cases; it has 92.59% precision, so when it predicts True, it's right most of the time; and with 87.43% recall, it's good at catching the majority of actual True cases but does miss a few."
   ]
  },
  {
   "cell_type": "markdown",
   "metadata": {
    "id": "oX4mCAOLYJzj"
   },
   "source": [
    "Insert comments here"
   ]
  },
  {
   "cell_type": "markdown",
   "metadata": {
    "id": "-YQPZnfeYJzj"
   },
   "source": [
    "## Question 5\n",
    "- Construct a ROC curve plot.  \n",
    "- Comment on the fit of the model based on this chart."
   ]
  },
  {
   "cell_type": "code",
   "execution_count": 21,
   "metadata": {},
   "outputs": [
    {
     "data": {
      "image/png": "[encoded data removed]",
      "text/plain": [
       "<Figure size 800x600 with 1 Axes>"
      ]
     },
     "metadata": {},
     "output_type": "display_data"
    },
    {
     "name": "stdout",
     "output_type": "stream",
     "text": [
      "Area Under the Curve (AUC): 0.963\n"
     ]
    }
   ],
   "source": [
    "# insert your code here\n",
    "# creating a function to get true postive rate, false positive rate and threshold values in form of an array\n",
    "def calculate_tpr_fpr(df):\n",
    "    df = df.sort_values('prob', ascending=False)\n",
    "    \n",
    "    tpr = []\n",
    "    fpr = []\n",
    "    thresholds = []\n",
    "    \n",
    "    for threshold in df['prob']:\n",
    "        tp = df[(df['prob'] >= threshold) & (df['actual'] == 1)].shape[0]\n",
    "        fp = df[(df['prob'] >= threshold) & (df['actual'] == 0)].shape[0]\n",
    "        fn = df[(df['prob'] < threshold) & (df['actual'] == 1)].shape[0]\n",
    "        tn = df[(df['prob'] < threshold) & (df['actual'] == 0)].shape[0]\n",
    "        \n",
    "        tpr.append(tp / (tp + fn) if (tp + fn) > 0 else 0)\n",
    "        fpr.append(fp / (fp + tn) if (fp + tn) > 0 else 0)\n",
    "        thresholds.append(threshold)\n",
    "    \n",
    "    return np.array(tpr), np.array(fpr), np.array(thresholds)\n",
    "\n",
    "# calculate TP and FP\n",
    "tpr, fpr, thresholds = calculate_tpr_fpr(results)\n",
    "\n",
    "# plotting the  ROC curve\n",
    "plt.figure(figsize=(8, 6))\n",
    "plt.plot(fpr, tpr, color='blue', label='ROC curve')\n",
    "plt.plot([0, 1], [0, 1], color='red', linestyle='--', label='Random classifier')\n",
    "plt.xlabel('False positive rate')\n",
    "plt.ylabel('True positive rate')\n",
    "plt.title('Receiver Operating Characteristic (ROC) Curve')\n",
    "plt.legend()\n",
    "plt.grid(True)\n",
    "\n",
    "# calculate AUC\n",
    "auc = np.trapz(tpr, fpr)\n",
    "plt.text(0.95, 0.05, f'AUC: {auc:.3f}', horizontalalignment='right', verticalalignment='bottom', transform=plt.gca().transAxes)\n",
    "\n",
    "# display the plot\n",
    "plt.show()\n",
    "\n",
    "# print AUC\n",
    "print(f\"Area Under the Curve (AUC): {auc:.3f}\")"
   ]
  },
  {
   "cell_type": "markdown",
   "metadata": {},
   "source": [
    "> The model is predicting the values very accurately."
   ]
  },
  {
   "cell_type": "markdown",
   "metadata": {
    "id": "pyQv4mWDYJzj"
   },
   "source": [
    "Insert comments here"
   ]
  }
 ],
 "metadata": {
  "colab": {
   "provenance": []
  },
  "kernelspec": {
   "display_name": "Python 3 (ipykernel)",
   "language": "python",
   "name": "python3"
  },
  "language_info": {
   "codemirror_mode": {
    "name": "ipython",
    "version": 3
   },
   "file_extension": ".py",
   "mimetype": "text/x-python",
   "name": "python",
   "nbconvert_exporter": "python",
   "pygments_lexer": "ipython3",
   "version": "3.12.4"
  },
  "toc": {
   "base_numbering": 1,
   "nav_menu": {},
   "number_sections": false,
   "sideBar": true,
   "skip_h1_title": false,
   "title_cell": "Table of Contents",
   "title_sidebar": "Contents",
   "toc_cell": false,
   "toc_position": {},
   "toc_section_display": true,
   "toc_window_display": false
  }
 },
 "nbformat": 4,
 "nbformat_minor": 4
}
