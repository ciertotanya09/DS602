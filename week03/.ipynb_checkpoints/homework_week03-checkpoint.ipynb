{
 "cells": [
  {
   "cell_type": "markdown",
   "id": "92665e74",
   "metadata": {
    "id": "92665e74"
   },
   "source": [
    "# Week3 - Homework\n",
    "\n",
    "Write a rule based predictor for the dataset below.\n",
    "\n",
    "Choose one of the following datasets and do your EDA.\n",
    "Test your assumptions.\n",
    "\n",
    "Finally write your code in `predict_one` function.\n",
    "\n",
    "Do __NOT__ change the function signature! This function should only take name and return `F` or `M`"
   ]
  },
  {
   "cell_type": "code",
   "execution_count": 2,
   "id": "71cb00e3",
   "metadata": {
    "id": "71cb00e3",
    "outputId": "280d6f9b-cc41-44ec-a235-ecbb2a8e21b4"
   },
   "outputs": [
    {
     "name": "stdout",
     "output_type": "stream",
     "text": [
      "<class 'pandas.core.frame.DataFrame'>\n",
      "RangeIndex: 36277 entries, 0 to 36276\n",
      "Data columns (total 2 columns):\n",
      " #   Column  Non-Null Count  Dtype \n",
      "---  ------  --------------  ----- \n",
      " 0   name    36277 non-null  object\n",
      " 1   gender  36277 non-null  object\n",
      "dtypes: object(2)\n",
      "memory usage: 567.0+ KB\n"
     ]
    }
   ],
   "source": [
    "import pandas as pd\n",
    "import numpy as np\n",
    "from matplotlib import pyplot as plt\n",
    "import seaborn as sns\n",
    "\n",
    "us_names = 'https://raw.githubusercontent.com/msaricaumbc/DS_data/master/ds602/names/us_names.csv'\n",
    "\n",
    "df = pd.read_csv(us_names)\n",
    "df.dropna(inplace=True)\n",
    "df.info()"
   ]
  },
  {
   "cell_type": "code",
   "execution_count": 3,
   "id": "03ad628a",
   "metadata": {
    "id": "03ad628a",
    "outputId": "1e02797c-9c45-4a01-be40-9f8af7a6752d"
   },
   "outputs": [
    {
     "data": {
      "text/plain": [
       "gender\n",
       "F    21789\n",
       "M    14488\n",
       "Name: count, dtype: int64"
      ]
     },
     "execution_count": 3,
     "metadata": {},
     "output_type": "execute_result"
    }
   ],
   "source": [
    "df.gender.value_counts()"
   ]
  },
  {
   "cell_type": "markdown",
   "id": "3065ca7f",
   "metadata": {
    "id": "3065ca7f"
   },
   "source": [
    "Not balanced! For simplicity, let's create a sub sample that will contains equal F and M."
   ]
  },
  {
   "cell_type": "code",
   "execution_count": 5,
   "id": "f042ada9",
   "metadata": {
    "id": "f042ada9"
   },
   "outputs": [],
   "source": [
    "min_count = min(df['gender'].value_counts())\n",
    "\n",
    "df_f = df[df['gender'] == 'F'].sample(min_count, random_state=42)\n",
    "df_m = df[df['gender'] == 'M'].sample(min_count, random_state=42)\n",
    "\n",
    "df = pd.concat([df_f, df_m]).reset_index(drop=True)"
   ]
  },
  {
   "cell_type": "code",
   "execution_count": 6,
   "id": "d88a3635",
   "metadata": {
    "id": "d88a3635",
    "outputId": "11f9d25f-0a57-4832-a571-4279a505440f"
   },
   "outputs": [
    {
     "data": {
      "text/plain": [
       "gender\n",
       "F    14488\n",
       "M    14488\n",
       "Name: count, dtype: int64"
      ]
     },
     "execution_count": 6,
     "metadata": {},
     "output_type": "execute_result"
    }
   ],
   "source": [
    "df.gender.value_counts()"
   ]
  },
  {
   "cell_type": "code",
   "execution_count": 7,
   "id": "e04e6545",
   "metadata": {
    "id": "e04e6545",
    "outputId": "77ac8466-8938-4ed4-c73c-f28fa111e4df"
   },
   "outputs": [
    {
     "data": {
      "text/html": [
       "<div>\n",
       "<style scoped>\n",
       "    .dataframe tbody tr th:only-of-type {\n",
       "        vertical-align: middle;\n",
       "    }\n",
       "\n",
       "    .dataframe tbody tr th {\n",
       "        vertical-align: top;\n",
       "    }\n",
       "\n",
       "    .dataframe thead th {\n",
       "        text-align: right;\n",
       "    }\n",
       "</style>\n",
       "<table border=\"1\" class=\"dataframe\">\n",
       "  <thead>\n",
       "    <tr style=\"text-align: right;\">\n",
       "      <th></th>\n",
       "      <th>name</th>\n",
       "      <th>gender</th>\n",
       "    </tr>\n",
       "  </thead>\n",
       "  <tbody>\n",
       "    <tr>\n",
       "      <th>0</th>\n",
       "      <td>Brennen</td>\n",
       "      <td>F</td>\n",
       "    </tr>\n",
       "    <tr>\n",
       "      <th>1</th>\n",
       "      <td>Chikaima</td>\n",
       "      <td>F</td>\n",
       "    </tr>\n",
       "    <tr>\n",
       "      <th>2</th>\n",
       "      <td>Zoejane</td>\n",
       "      <td>F</td>\n",
       "    </tr>\n",
       "    <tr>\n",
       "      <th>3</th>\n",
       "      <td>Teegan</td>\n",
       "      <td>F</td>\n",
       "    </tr>\n",
       "    <tr>\n",
       "      <th>4</th>\n",
       "      <td>Alanda</td>\n",
       "      <td>F</td>\n",
       "    </tr>\n",
       "  </tbody>\n",
       "</table>\n",
       "</div>"
      ],
      "text/plain": [
       "       name gender\n",
       "0   Brennen      F\n",
       "1  Chikaima      F\n",
       "2   Zoejane      F\n",
       "3    Teegan      F\n",
       "4    Alanda      F"
      ]
     },
     "execution_count": 7,
     "metadata": {},
     "output_type": "execute_result"
    }
   ],
   "source": [
    "df.head()"
   ]
  },
  {
   "cell_type": "markdown",
   "id": "96ce8445",
   "metadata": {
    "id": "96ce8445"
   },
   "source": [
    "## Part1:\n",
    "\n",
    "Run experiments to select which rules are good seperator for gender."
   ]
  },
  {
   "cell_type": "markdown",
   "id": "8c95c921",
   "metadata": {
    "id": "8c95c921"
   },
   "source": [
    "### Two examples:"
   ]
  },
  {
   "cell_type": "code",
   "execution_count": 10,
   "id": "88d552f1",
   "metadata": {
    "id": "88d552f1"
   },
   "outputs": [],
   "source": [
    "# most of the females tend to have a vowel in their name as the last letter\n",
    "def is_last_letter_vowel(name):\n",
    "    return name[-1].lower() in 'aeiou'\n",
    "df['is_last_letter_vowel'] = df['name'].apply(is_last_letter_vowel)"
   ]
  },
  {
   "cell_type": "code",
   "execution_count": 11,
   "id": "50fcd092",
   "metadata": {
    "id": "50fcd092",
    "outputId": "e8bb161f-b9fd-4ee8-fc03-75944441ae42"
   },
   "outputs": [
    {
     "data": {
      "text/plain": [
       "<Axes: xlabel='is_last_letter_vowel', ylabel='count'>"
      ]
     },
     "execution_count": 11,
     "metadata": {},
     "output_type": "execute_result"
    },
    {
     "data": {
      "image/png": "[encoded data removed]",
      "text/plain": [
       "<Figure size 640x480 with 1 Axes>"
      ]
     },
     "metadata": {},
     "output_type": "display_data"
    }
   ],
   "source": [
    "sns.countplot(data = df, x = 'is_last_letter_vowel', hue = 'gender')"
   ]
  },
  {
   "cell_type": "markdown",
   "id": "1f8e6476",
   "metadata": {
    "id": "1f8e6476"
   },
   "source": [
    "It looks like last letter being a vowel is a good indicator for this dataset!"
   ]
  },
  {
   "cell_type": "code",
   "execution_count": 13,
   "id": "760ce50e-0df9-4fd1-bb18-7e5625a7a488",
   "metadata": {},
   "outputs": [],
   "source": [
    "# finding the length of name\n",
    "df['name_length'] = df['name'].apply(len)"
   ]
  },
  {
   "cell_type": "code",
   "execution_count": 14,
   "id": "8d063396-f950-4271-8d9f-3f7238a1c46f",
   "metadata": {},
   "outputs": [
    {
     "data": {
      "text/plain": [
       "<Axes: xlabel='name_length', ylabel='count'>"
      ]
     },
     "execution_count": 14,
     "metadata": {},
     "output_type": "execute_result"
    },
    {
     "data": {
      "image/png": "[encoded data removed]",
      "text/plain": [
       "<Figure size 640x480 with 1 Axes>"
      ]
     },
     "metadata": {},
     "output_type": "display_data"
    }
   ],
   "source": [
    "sns.countplot(data = df, x = 'name_length', hue = 'gender')"
   ]
  },
  {
   "cell_type": "markdown",
   "id": "0da1359f-3061-40d8-9ef8-769f868c7c5e",
   "metadata": {},
   "source": [
    "The length of the name is not a good classifier for the gender"
   ]
  },
  {
   "cell_type": "code",
   "execution_count": 16,
   "id": "6d60d391-8a5a-4647-90f1-403088b0e75f",
   "metadata": {},
   "outputs": [
    {
     "name": "stdout",
     "output_type": "stream",
     "text": [
      "Average length of male names: 6.058669243511872\n",
      "Average length of female names: 6.354086140254004\n"
     ]
    }
   ],
   "source": [
    "# calculating average lengths for male and female names\n",
    "avg_length_male = df[df['gender'] == 'M']['name'].str.len().mean()\n",
    "avg_length_female = df[df['gender'] == 'F']['name'].str.len().mean()\n",
    "\n",
    "print(f\"Average length of male names: {avg_length_male}\")\n",
    "print(f\"Average length of female names: {avg_length_female}\")\n",
    "\n",
    "# setting a threshold based on the average lengths\n",
    "length_threshold = (avg_length_male + avg_length_female) / 2"
   ]
  },
  {
   "cell_type": "markdown",
   "id": "6335c196-a640-4556-b757-9afff0a4bb73",
   "metadata": {},
   "source": [
    "> The average length of male names is less as compared to female names."
   ]
  },
  {
   "cell_type": "code",
   "execution_count": 18,
   "id": "c34ae0a8-3f08-4a2d-9f1a-765f8075b187",
   "metadata": {},
   "outputs": [],
   "source": [
    "# function to clasify the length of the name based on a threshold value\n",
    "def classify_by_length(name, avg_length_male, avg_length_female):\n",
    "    name_length = len(name)\n",
    "    length_margin = 1  # Adjust the margin for flexibility\n",
    "    if name_length < avg_length_male - length_margin:\n",
    "        return 'M'\n",
    "    elif name_length > avg_length_female + length_margin:\n",
    "        return 'F'\n",
    "    else:\n",
    "        return None\n",
    "\n",
    "\n",
    "# adding a new column\n",
    "df['gender_based_on_length'] = df['name'].apply(lambda name: classify_by_length(name, avg_length_male, avg_length_female))"
   ]
  },
  {
   "cell_type": "code",
   "execution_count": 19,
   "id": "a22f119e-d15f-418f-a2de-1e0ded330edb",
   "metadata": {},
   "outputs": [
    {
     "data": {
      "text/plain": [
       "<Axes: xlabel='gender_based_on_length', ylabel='count'>"
      ]
     },
     "execution_count": 19,
     "metadata": {},
     "output_type": "execute_result"
    },
    {
     "data": {
      "image/png": "[encoded data removed]",
      "text/plain": [
       "<Figure size 640x480 with 1 Axes>"
      ]
     },
     "metadata": {},
     "output_type": "display_data"
    }
   ],
   "source": [
    "sns.countplot(data = df, x = 'gender_based_on_length', hue = 'gender')"
   ]
  },
  {
   "cell_type": "markdown",
   "id": "8f5e9e86-d440-42c4-9189-681902f0917a",
   "metadata": {},
   "source": [
    "Even though the length of the name is not a good indicator for this dataset but somehow it can be a predictor for our study combining wth other rules."
   ]
  },
  {
   "cell_type": "code",
   "execution_count": 21,
   "id": "c31c82b7-d74e-4865-a46d-fce7e27a5306",
   "metadata": {},
   "outputs": [],
   "source": [
    "# checking if the name contains double letters\n",
    "def has_double_letters(name):\n",
    "    name_lower = name.lower()\n",
    "    for i in range(len(name_lower) - 1):\n",
    "        if name_lower[i] == name_lower[i + 1]:\n",
    "            return True\n",
    "    return False\n",
    "# adding a column for double letters\n",
    "df['has_double_letters'] = df['name'].apply(has_double_letters)"
   ]
  },
  {
   "cell_type": "code",
   "execution_count": 22,
   "id": "436ec3a1-5db0-41fc-884c-b7b1eb1f9f63",
   "metadata": {},
   "outputs": [
    {
     "data": {
      "text/plain": [
       "<Axes: xlabel='has_double_letters', ylabel='count'>"
      ]
     },
     "execution_count": 22,
     "metadata": {},
     "output_type": "execute_result"
    },
    {
     "data": {
      "image/png": "[encoded data removed]",
      "text/plain": [
       "<Figure size 640x480 with 1 Axes>"
      ]
     },
     "metadata": {},
     "output_type": "display_data"
    }
   ],
   "source": [
    "sns.countplot(data = df, x = 'has_double_letters', hue = 'gender')"
   ]
  },
  {
   "cell_type": "markdown",
   "id": "6847d6bb-1920-4225-a7b5-44ccf951d379",
   "metadata": {},
   "source": [
    "Having a repetition of letters in the name of females is common, so double letters can be a good indicator for our study."
   ]
  },
  {
   "cell_type": "code",
   "execution_count": 24,
   "id": "81aac593-a762-4ad6-9074-c4f1046d9990",
   "metadata": {},
   "outputs": [],
   "source": [
    "# checking if there are any vowels in the middle of the name\n",
    "df['middle_vowel'] = df['name'].apply(lambda name: len(name) > 2 and name[len(name) // 2].lower() in 'aeiou')"
   ]
  },
  {
   "cell_type": "code",
   "execution_count": 25,
   "id": "9d4b03e1-c433-4a08-8f3c-e969e01501b2",
   "metadata": {},
   "outputs": [
    {
     "data": {
      "text/plain": [
       "<Axes: xlabel='middle_vowel', ylabel='count'>"
      ]
     },
     "execution_count": 25,
     "metadata": {},
     "output_type": "execute_result"
    },
    {
     "data": {
      "image/png": "[encoded data removed]",
      "text/plain": [
       "<Figure size 640x480 with 1 Axes>"
      ]
     },
     "metadata": {},
     "output_type": "display_data"
    }
   ],
   "source": [
    "sns.countplot(data = df, x = 'middle_vowel', hue = 'gender')"
   ]
  },
  {
   "cell_type": "markdown",
   "id": "2e719638-4a47-4a19-82a9-3e40412639ad",
   "metadata": {},
   "source": [
    "A vowel in the middle of the name could have been a good indicator for prediction, but it doesn't play a significant role in the predictio as there is no significant difference in the frequencies."
   ]
  },
  {
   "cell_type": "code",
   "execution_count": 27,
   "id": "cc05bc40-d6e6-413c-819d-05c203eb5367",
   "metadata": {},
   "outputs": [
    {
     "name": "stdout",
     "output_type": "stream",
     "text": [
      "Average vowel count for male names: 2.4515461071231366\n",
      "Average vowel count for female names: 2.7794726670347876\n"
     ]
    }
   ],
   "source": [
    "# function to count vowels in a name\n",
    "def count_vowels(name):\n",
    "    return sum(1 for letter in name.lower() if letter in 'aeiou')\n",
    "\n",
    "# adding a column for vowel count\n",
    "df['vowel_count'] = df['name'].apply(count_vowels)\n",
    "\n",
    "# calculating average vowel counts for male and female names\n",
    "avg_vowel_count_male = df[df['gender'] == 'M']['vowel_count'].mean()\n",
    "avg_vowel_count_female = df[df['gender'] == 'F']['vowel_count'].mean()\n",
    "\n",
    "print(f\"Average vowel count for male names: {avg_vowel_count_male}\")\n",
    "print(f\"Average vowel count for female names: {avg_vowel_count_female}\")\n",
    "\n",
    "# setting a threshold based on average vowel counts\n",
    "vowel_threshold = (avg_vowel_count_male + avg_vowel_count_female) / 2\n",
    "\n",
    "# creating a function to classify based on vowel count\n",
    "def classify_by_vowel_count(name):\n",
    "    if count_vowels(name) <= vowel_threshold:\n",
    "        return False\n",
    "    else:\n",
    "        return True\n",
    "\n",
    "# adding a new column to the DataFrame with gender classification based on vowel count\n",
    "df['gender_based_on_vowel_count'] = df['name'].apply(classify_by_vowel_count)"
   ]
  },
  {
   "cell_type": "markdown",
   "id": "edc349ed-a3ea-4ad5-9e28-814744c0e188",
   "metadata": {},
   "source": [
    "> Males have less vowels in their names as compared to females."
   ]
  },
  {
   "cell_type": "code",
   "execution_count": 29,
   "id": "d969c0d2-eebe-4684-b525-14c17a89698f",
   "metadata": {},
   "outputs": [
    {
     "data": {
      "text/plain": [
       "<Axes: xlabel='gender_based_on_vowel_count', ylabel='count'>"
      ]
     },
     "execution_count": 29,
     "metadata": {},
     "output_type": "execute_result"
    },
    {
     "data": {
      "image/png": "[encoded data removed]",
      "text/plain": [
       "<Figure size 640x480 with 1 Axes>"
      ]
     },
     "metadata": {},
     "output_type": "display_data"
    }
   ],
   "source": [
    "sns.countplot(data = df, x = 'gender_based_on_vowel_count', hue = 'gender')"
   ]
  },
  {
   "cell_type": "markdown",
   "id": "a8e22251-4b62-401d-bede-0a99bb79ad54",
   "metadata": {},
   "source": [
    "Females tend to have more vowels in their names eg Tanya (2 vowels), Jasmine (3 vowels), etc."
   ]
  },
  {
   "cell_type": "code",
   "execution_count": 31,
   "id": "d7c571e0-8cd3-477e-a53d-b3d876baafe8",
   "metadata": {},
   "outputs": [],
   "source": [
    "# function to check common female suffixes in the names(expanded)\n",
    "def has_female_suffix(name):\n",
    "    suffixes = ['a', 'ia', 'na', 'ine', 'ette', 'elle', 'ine', 'y', 'ie', 'ina', 'lyn', 'ene']\n",
    "    for suffix in suffixes:\n",
    "        if name.lower().endswith(suffix):\n",
    "            return True\n",
    "    return False\n",
    "\n",
    "# function to check common male suffixes in the names(expanded)\n",
    "def has_male_suffix(name):\n",
    "    suffixes = ['o', 'us', 'er', 'an', 'on', 'is', 'vin', 'en', 'ald', 'son', 'ley']\n",
    "    for suffix in suffixes:\n",
    "        if name.lower().endswith(suffix):\n",
    "            return True\n",
    "    return False"
   ]
  },
  {
   "cell_type": "code",
   "execution_count": null,
   "id": "089deb0a-3c2f-4a60-8c69-c083be54f896",
   "metadata": {},
   "outputs": [],
   "source": []
  },
  {
   "cell_type": "markdown",
   "id": "c1fbd8e4",
   "metadata": {
    "id": "c1fbd8e4"
   },
   "source": [
    "## Part2\n",
    "\n",
    "Write the inference function based on the findings..."
   ]
  },
  {
   "cell_type": "code",
   "execution_count": 33,
   "id": "f4bd70e7-3666-4688-b24c-3f277b86c84e",
   "metadata": {},
   "outputs": [],
   "source": [
    "def predict_one(name): # <-- (Don't change the function signature) DO NOT CHANGE THIS LINE\n",
    "    # write your codes below this line....\n",
    "    last_letter_vowel = is_last_letter_vowel(name)\n",
    "    vowel_count = count_vowels(name)\n",
    "    double_letters = has_double_letters(name)\n",
    "    female_suffix = has_female_suffix(name)\n",
    "    male_suffix = has_male_suffix(name)\n",
    "    \n",
    "    # calculating average lengths of the names\n",
    "    avg_length_male = df[df['gender'] == 'M']['name'].str.len().mean()\n",
    "    avg_length_female = df[df['gender'] == 'F']['name'].str.len().mean()\n",
    "\n",
    "    # classifying based on the rules\n",
    "    if female_suffix:\n",
    "        return 'F'\n",
    "    elif male_suffix:\n",
    "        return 'M'\n",
    "    elif last_letter_vowel and vowel_count >= 3:\n",
    "        return 'F'\n",
    "    elif not last_letter_vowel and double_letters:\n",
    "        return 'F'\n",
    "    elif classify_by_length(name, avg_length_male, avg_length_female) == 'M':\n",
    "        return 'M'\n",
    "    elif classify_by_length(name, avg_length_male, avg_length_female) == 'F':\n",
    "        return 'F'\n",
    "    \n",
    "    # if rules are not enough!\n",
    "    return 'M' if vowel_count < 3 else 'F'"
   ]
  },
  {
   "cell_type": "code",
   "execution_count": 34,
   "id": "ded84fca-6068-4daa-b837-f136d86b8a93",
   "metadata": {},
   "outputs": [
    {
     "name": "stdout",
     "output_type": "stream",
     "text": [
      "Accuracy: 0.7051007730535616\n"
     ]
    }
   ],
   "source": [
    "## DO NOT CHANGE ANYTHING IN THIS CELL!!!\n",
    "predictions = [ predict_one(name) for name in df.name]\n",
    "accuracy = sum(df.gender == predictions) / len(df)\n",
    "print(f\"Accuracy: {accuracy}\")"
   ]
  },
  {
   "cell_type": "markdown",
   "id": "be0dc662",
   "metadata": {
    "id": "be0dc662"
   },
   "source": [
    "## Part3\n",
    "\n",
    "\n",
    "Write the above function in any other language other than python with a small demo.\n",
    "\n",
    "Or preferably in javascript as it is easy to present.\n",
    "\n",
    "Here is the starter code.\n",
    "\n",
    "* Open a new file in week3 folder name it `name_predictor.html`\n",
    "\n",
    "* Fill the `predictOne` function based on the function above\n",
    "\n",
    "* Save and double click on the html file to test it.\n"
   ]
  },
  {
   "cell_type": "raw",
   "id": "5488cbf8",
   "metadata": {
    "id": "5488cbf8"
   },
   "source": [
    "<!DOCTYPE html>\n",
    "<html lang=\"en\">\n",
    "\n",
    "<head>\n",
    "    <title>Gender Prediction</title>\n",
    "    <!-- Bootstrap CSS -->\n",
    "    <link href=\"https://maxcdn.bootstrapcdn.com/bootstrap/4.5.2/css/bootstrap.min.css\" rel=\"stylesheet\">\n",
    "</head>\n",
    "\n",
    "<body class=\"container py-5\">\n",
    "\n",
    "    <div class=\"form-group\">\n",
    "        <label for=\"inputBox\" class=\"font-weight-bold\">Enter Name:</label>\n",
    "        <input type=\"text\"\n",
    "               id=\"inputBox\"\n",
    "               class=\"form-control\"\n",
    "               placeholder=\"Type name...\"\n",
    "               oninput=\"runInference()\">\n",
    "    </div>\n",
    "    <div id=\"result\" class=\"alert alert-info mt-3\">Prediction: </div>\n",
    "\n",
    "    <script>\n",
    "        function runInference() {\n",
    "            const input = document.getElementById('inputBox').value;\n",
    "            const prediction = predictOne(input);\n",
    "            document.getElementById('result').textContent = `Prediction: ${prediction}`;\n",
    "        }\n",
    "\n",
    "        function isLastLetterVowel(name) {\n",
    "            return 'aeiou'.includes(name[name.length - 1].toLowerCase());\n",
    "        }\n",
    "\n",
    "        function countVowels(name) {\n",
    "            return [...name.toLowerCase()].filter(letter => 'aeiou'.includes(letter)).length;\n",
    "        }\n",
    "\n",
    "        function hasDoubleLetters(name) {\n",
    "            for (let i = 0; i < name.length - 1; i++) {\n",
    "                if (name[i].toLowerCase() === name[i + 1].toLowerCase()) {\n",
    "                    return true;\n",
    "                }\n",
    "            }\n",
    "            return false;\n",
    "        }\n",
    "\n",
    "        function hasFemaleSuffix(name) {\n",
    "            const suffixes = ['a', 'ia', 'na', 'ine', 'ette', 'elle', 'ine', 'y', 'ie', 'ina', 'lyn', 'ene'];\n",
    "            return suffixes.some(suffix => name.toLowerCase().endsWith(suffix));\n",
    "        }\n",
    "\n",
    "        function hasMaleSuffix(name) {\n",
    "            const suffixes = ['o', 'us', 'er', 'an', 'on', 'is', 'vin', 'en', 'ald', 'son', 'ley'];\n",
    "            return suffixes.some(suffix => name.toLowerCase().endsWith(suffix));\n",
    "        }\n",
    "\n",
    "        function classifyByLength(name, avgLengthMale, avgLengthFemale) {\n",
    "            const nameLength = name.length;\n",
    "            const lengthMargin = 1; // Adjust the margin for flexibility\n",
    "            if (nameLength < avgLengthMale - lengthMargin) {\n",
    "                return 'M';\n",
    "            } else if (nameLength > avgLengthFemale + lengthMargin) {\n",
    "                return 'F';\n",
    "            }\n",
    "            return null;\n",
    "        }\n",
    "\n",
    "        function predictOne(name) {\n",
    "            if (typeof name !== 'string') return;\n",
    "\n",
    "            name = name.toLowerCase();\n",
    "\n",
    "            // average lengths for male and female names\n",
    "            const avgLengthMale = 6.05; \n",
    "            const avgLengthFemale = 6.35;  \n",
    "\n",
    "            const lastLetterVowel = isLastLetterVowel(name);\n",
    "            const vowelCount = countVowels(name);\n",
    "            const doubleLetters = hasDoubleLetters(name);\n",
    "            const femaleSuffix = hasFemaleSuffix(name);\n",
    "            const maleSuffix = hasMaleSuffix(name);\n",
    "\n",
    "            // implementing the rules\n",
    "            if (femaleSuffix) {\n",
    "                return 'F';\n",
    "            } else if (maleSuffix) {\n",
    "                return 'M';\n",
    "            } else if (lastLetterVowel && vowelCount >= 3) {\n",
    "                return 'F';\n",
    "            } else if (!lastLetterVowel && doubleLetters) {\n",
    "                return 'F';\n",
    "            } else if (classifyByLength(name, avgLengthMale, avgLengthFemale) === 'M') {\n",
    "                return 'M';\n",
    "            } else if (classifyByLength(name, avgLengthMale, avgLengthFemale) === 'F') {\n",
    "                return 'F';\n",
    "            }\n",
    "\n",
    "            // end rule\n",
    "            return vowelCount < 3 ? 'M' : 'F';\n",
    "        }\n",
    "    </script>\n",
    "\n",
    "</body>\n",
    "\n",
    "</html>\n"
   ]
  },
  {
   "cell_type": "code",
   "execution_count": null,
   "id": "7e998716",
   "metadata": {
    "id": "7e998716"
   },
   "outputs": [],
   "source": []
  }
 ],
 "metadata": {
  "colab": {
   "provenance": []
  },
  "kernelspec": {
   "display_name": "Python 3 (ipykernel)",
   "language": "python",
   "name": "python3"
  },
  "language_info": {
   "codemirror_mode": {
    "name": "ipython",
    "version": 3
   },
   "file_extension": ".py",
   "mimetype": "text/x-python",
   "name": "python",
   "nbconvert_exporter": "python",
   "pygments_lexer": "ipython3",
   "version": "3.12.4"
  },
  "toc": {
   "base_numbering": 1,
   "nav_menu": {},
   "number_sections": true,
   "sideBar": true,
   "skip_h1_title": false,
   "title_cell": "Table of Contents",
   "title_sidebar": "Contents",
   "toc_cell": false,
   "toc_position": {},
   "toc_section_display": true,
   "toc_window_display": false
  }
 },
 "nbformat": 4,
 "nbformat_minor": 5
}
